{
 "cells": [
  {
   "cell_type": "code",
   "execution_count": 871,
   "metadata": {},
   "outputs": [],
   "source": [
    "import pandas as pd\n",
    "import numpy as np\n",
    "import seaborn as sns\n",
    "import matplotlib.pyplot as plt\n",
    "%matplotlib inline"
   ]
  },
  {
   "cell_type": "code",
   "execution_count": 872,
   "metadata": {},
   "outputs": [],
   "source": [
    "data = pd.read_csv('googleplaystoremaster.csv')"
   ]
  },
  {
   "cell_type": "code",
   "execution_count": 873,
   "metadata": {},
   "outputs": [
    {
     "data": {
      "text/html": [
       "<div>\n",
       "<style scoped>\n",
       "    .dataframe tbody tr th:only-of-type {\n",
       "        vertical-align: middle;\n",
       "    }\n",
       "\n",
       "    .dataframe tbody tr th {\n",
       "        vertical-align: top;\n",
       "    }\n",
       "\n",
       "    .dataframe thead th {\n",
       "        text-align: right;\n",
       "    }\n",
       "</style>\n",
       "<table border=\"1\" class=\"dataframe\">\n",
       "  <thead>\n",
       "    <tr style=\"text-align: right;\">\n",
       "      <th></th>\n",
       "      <th>App</th>\n",
       "      <th>Category</th>\n",
       "      <th>Rating</th>\n",
       "      <th>Reviews</th>\n",
       "      <th>Size</th>\n",
       "      <th>Installs</th>\n",
       "      <th>Type</th>\n",
       "      <th>Price</th>\n",
       "      <th>Content Rating</th>\n",
       "      <th>Genres</th>\n",
       "      <th>Last Updated</th>\n",
       "      <th>Current Ver</th>\n",
       "      <th>Android Ver</th>\n",
       "    </tr>\n",
       "  </thead>\n",
       "  <tbody>\n",
       "    <tr>\n",
       "      <th>0</th>\n",
       "      <td>Photo Editor &amp; Candy Camera &amp; Grid &amp; ScrapBook</td>\n",
       "      <td>ART_AND_DESIGN</td>\n",
       "      <td>4.1</td>\n",
       "      <td>159</td>\n",
       "      <td>19M</td>\n",
       "      <td>10,000+</td>\n",
       "      <td>Free</td>\n",
       "      <td>0</td>\n",
       "      <td>Everyone</td>\n",
       "      <td>Art &amp; Design</td>\n",
       "      <td>January 7, 2018</td>\n",
       "      <td>1.0.0</td>\n",
       "      <td>4.0.3 and up</td>\n",
       "    </tr>\n",
       "    <tr>\n",
       "      <th>1</th>\n",
       "      <td>Coloring book moana</td>\n",
       "      <td>ART_AND_DESIGN</td>\n",
       "      <td>3.9</td>\n",
       "      <td>967</td>\n",
       "      <td>14M</td>\n",
       "      <td>500,000+</td>\n",
       "      <td>Free</td>\n",
       "      <td>0</td>\n",
       "      <td>Everyone</td>\n",
       "      <td>Art &amp; Design;Pretend Play</td>\n",
       "      <td>January 15, 2018</td>\n",
       "      <td>2.0.0</td>\n",
       "      <td>4.0.3 and up</td>\n",
       "    </tr>\n",
       "    <tr>\n",
       "      <th>2</th>\n",
       "      <td>U Launcher Lite – FREE Live Cool Themes, Hide ...</td>\n",
       "      <td>ART_AND_DESIGN</td>\n",
       "      <td>4.7</td>\n",
       "      <td>87510</td>\n",
       "      <td>8.7M</td>\n",
       "      <td>5,000,000+</td>\n",
       "      <td>Free</td>\n",
       "      <td>0</td>\n",
       "      <td>Everyone</td>\n",
       "      <td>Art &amp; Design</td>\n",
       "      <td>August 1, 2018</td>\n",
       "      <td>1.2.4</td>\n",
       "      <td>4.0.3 and up</td>\n",
       "    </tr>\n",
       "    <tr>\n",
       "      <th>3</th>\n",
       "      <td>Sketch - Draw &amp; Paint</td>\n",
       "      <td>ART_AND_DESIGN</td>\n",
       "      <td>4.5</td>\n",
       "      <td>215644</td>\n",
       "      <td>25M</td>\n",
       "      <td>50,000,000+</td>\n",
       "      <td>Free</td>\n",
       "      <td>0</td>\n",
       "      <td>Teen</td>\n",
       "      <td>Art &amp; Design</td>\n",
       "      <td>June 8, 2018</td>\n",
       "      <td>Varies with device</td>\n",
       "      <td>4.2 and up</td>\n",
       "    </tr>\n",
       "    <tr>\n",
       "      <th>4</th>\n",
       "      <td>Pixel Draw - Number Art Coloring Book</td>\n",
       "      <td>ART_AND_DESIGN</td>\n",
       "      <td>4.3</td>\n",
       "      <td>967</td>\n",
       "      <td>2.8M</td>\n",
       "      <td>100,000+</td>\n",
       "      <td>Free</td>\n",
       "      <td>0</td>\n",
       "      <td>Everyone</td>\n",
       "      <td>Art &amp; Design;Creativity</td>\n",
       "      <td>June 20, 2018</td>\n",
       "      <td>1.1</td>\n",
       "      <td>4.4 and up</td>\n",
       "    </tr>\n",
       "  </tbody>\n",
       "</table>\n",
       "</div>"
      ],
      "text/plain": [
       "                                                 App        Category  Rating  \\\n",
       "0     Photo Editor & Candy Camera & Grid & ScrapBook  ART_AND_DESIGN     4.1   \n",
       "1                                Coloring book moana  ART_AND_DESIGN     3.9   \n",
       "2  U Launcher Lite – FREE Live Cool Themes, Hide ...  ART_AND_DESIGN     4.7   \n",
       "3                              Sketch - Draw & Paint  ART_AND_DESIGN     4.5   \n",
       "4              Pixel Draw - Number Art Coloring Book  ART_AND_DESIGN     4.3   \n",
       "\n",
       "  Reviews  Size     Installs  Type Price Content Rating  \\\n",
       "0     159   19M      10,000+  Free     0       Everyone   \n",
       "1     967   14M     500,000+  Free     0       Everyone   \n",
       "2   87510  8.7M   5,000,000+  Free     0       Everyone   \n",
       "3  215644   25M  50,000,000+  Free     0           Teen   \n",
       "4     967  2.8M     100,000+  Free     0       Everyone   \n",
       "\n",
       "                      Genres      Last Updated         Current Ver  \\\n",
       "0               Art & Design   January 7, 2018               1.0.0   \n",
       "1  Art & Design;Pretend Play  January 15, 2018               2.0.0   \n",
       "2               Art & Design    August 1, 2018               1.2.4   \n",
       "3               Art & Design      June 8, 2018  Varies with device   \n",
       "4    Art & Design;Creativity     June 20, 2018                 1.1   \n",
       "\n",
       "    Android Ver  \n",
       "0  4.0.3 and up  \n",
       "1  4.0.3 and up  \n",
       "2  4.0.3 and up  \n",
       "3    4.2 and up  \n",
       "4    4.4 and up  "
      ]
     },
     "execution_count": 873,
     "metadata": {},
     "output_type": "execute_result"
    }
   ],
   "source": [
    "data.head()"
   ]
  },
  {
   "cell_type": "code",
   "execution_count": 874,
   "metadata": {},
   "outputs": [],
   "source": [
    "# Dropped un-needed columns\n",
    "data = data.drop(columns=['Rating','Size','Type','Price','Content Rating','Genres','Last Updated','Current Ver','Android Ver'])"
   ]
  },
  {
   "cell_type": "code",
   "execution_count": 875,
   "metadata": {},
   "outputs": [
    {
     "data": {
      "text/html": [
       "<div>\n",
       "<style scoped>\n",
       "    .dataframe tbody tr th:only-of-type {\n",
       "        vertical-align: middle;\n",
       "    }\n",
       "\n",
       "    .dataframe tbody tr th {\n",
       "        vertical-align: top;\n",
       "    }\n",
       "\n",
       "    .dataframe thead th {\n",
       "        text-align: right;\n",
       "    }\n",
       "</style>\n",
       "<table border=\"1\" class=\"dataframe\">\n",
       "  <thead>\n",
       "    <tr style=\"text-align: right;\">\n",
       "      <th></th>\n",
       "      <th>App</th>\n",
       "      <th>Category</th>\n",
       "      <th>Reviews</th>\n",
       "      <th>Installs</th>\n",
       "    </tr>\n",
       "  </thead>\n",
       "  <tbody>\n",
       "    <tr>\n",
       "      <th>0</th>\n",
       "      <td>Photo Editor &amp; Candy Camera &amp; Grid &amp; ScrapBook</td>\n",
       "      <td>ART_AND_DESIGN</td>\n",
       "      <td>159</td>\n",
       "      <td>10,000+</td>\n",
       "    </tr>\n",
       "    <tr>\n",
       "      <th>1</th>\n",
       "      <td>Coloring book moana</td>\n",
       "      <td>ART_AND_DESIGN</td>\n",
       "      <td>967</td>\n",
       "      <td>500,000+</td>\n",
       "    </tr>\n",
       "    <tr>\n",
       "      <th>2</th>\n",
       "      <td>U Launcher Lite – FREE Live Cool Themes, Hide ...</td>\n",
       "      <td>ART_AND_DESIGN</td>\n",
       "      <td>87510</td>\n",
       "      <td>5,000,000+</td>\n",
       "    </tr>\n",
       "    <tr>\n",
       "      <th>3</th>\n",
       "      <td>Sketch - Draw &amp; Paint</td>\n",
       "      <td>ART_AND_DESIGN</td>\n",
       "      <td>215644</td>\n",
       "      <td>50,000,000+</td>\n",
       "    </tr>\n",
       "    <tr>\n",
       "      <th>4</th>\n",
       "      <td>Pixel Draw - Number Art Coloring Book</td>\n",
       "      <td>ART_AND_DESIGN</td>\n",
       "      <td>967</td>\n",
       "      <td>100,000+</td>\n",
       "    </tr>\n",
       "  </tbody>\n",
       "</table>\n",
       "</div>"
      ],
      "text/plain": [
       "                                                 App        Category Reviews  \\\n",
       "0     Photo Editor & Candy Camera & Grid & ScrapBook  ART_AND_DESIGN     159   \n",
       "1                                Coloring book moana  ART_AND_DESIGN     967   \n",
       "2  U Launcher Lite – FREE Live Cool Themes, Hide ...  ART_AND_DESIGN   87510   \n",
       "3                              Sketch - Draw & Paint  ART_AND_DESIGN  215644   \n",
       "4              Pixel Draw - Number Art Coloring Book  ART_AND_DESIGN     967   \n",
       "\n",
       "      Installs  \n",
       "0      10,000+  \n",
       "1     500,000+  \n",
       "2   5,000,000+  \n",
       "3  50,000,000+  \n",
       "4     100,000+  "
      ]
     },
     "execution_count": 875,
     "metadata": {},
     "output_type": "execute_result"
    }
   ],
   "source": [
    "data.head()"
   ]
  },
  {
   "cell_type": "code",
   "execution_count": 876,
   "metadata": {},
   "outputs": [
    {
     "data": {
      "text/plain": [
       "array(['ART_AND_DESIGN', 'AUTO_AND_VEHICLES', 'BEAUTY',\n",
       "       'BOOKS_AND_REFERENCE', 'BUSINESS', 'COMICS', 'COMMUNICATION',\n",
       "       'DATING', 'EDUCATION', 'ENTERTAINMENT', 'EVENTS', 'FINANCE',\n",
       "       'FOOD_AND_DRINK', 'HEALTH_AND_FITNESS', 'HOUSE_AND_HOME',\n",
       "       'LIBRARIES_AND_DEMO', 'LIFESTYLE', 'GAME', 'FAMILY', 'MEDICAL',\n",
       "       'SOCIAL', 'SHOPPING', 'PHOTOGRAPHY', 'SPORTS', 'TRAVEL_AND_LOCAL',\n",
       "       'TOOLS', 'PERSONALIZATION', 'PRODUCTIVITY', 'PARENTING', 'WEATHER',\n",
       "       'VIDEO_PLAYERS', 'NEWS_AND_MAGAZINES', 'MAPS_AND_NAVIGATION',\n",
       "       '1.9'], dtype=object)"
      ]
     },
     "execution_count": 876,
     "metadata": {},
     "output_type": "execute_result"
    }
   ],
   "source": [
    "data['Category'].unique()"
   ]
  },
  {
   "cell_type": "code",
   "execution_count": 877,
   "metadata": {},
   "outputs": [],
   "source": [
    "# drop un-needed categories\n",
    "\n",
    "data = data[~data['Category'].isin(['AUTO_AND_VEHICLES', 'BEAUTY',\n",
    "       'BOOKS_AND_REFERENCE', 'BUSINESS', 'COMICS', 'COMMUNICATION',\n",
    "       'DATING', 'EDUCATION', 'EVENTS', 'FINANCE',\n",
    "       'FOOD_AND_DRINK', 'HEALTH_AND_FITNESS', 'HOUSE_AND_HOME',\n",
    "       'LIBRARIES_AND_DEMO', 'LIFESTYLE', 'GAME', 'FAMILY', 'MEDICAL', \n",
    "        'SHOPPING', 'PHOTOGRAPHY', 'SPORTS', 'TRAVEL_AND_LOCAL',\n",
    "       'TOOLS', 'PERSONALIZATION', 'PRODUCTIVITY', 'PARENTING',\n",
    "       'VIDEO_PLAYERS', 'NEWS_AND_MAGAZINES', 'MAPS_AND_NAVIGATION',\n",
    "       '1.9'])] "
   ]
  },
  {
   "cell_type": "code",
   "execution_count": 878,
   "metadata": {},
   "outputs": [
    {
     "data": {
      "text/html": [
       "<div>\n",
       "<style scoped>\n",
       "    .dataframe tbody tr th:only-of-type {\n",
       "        vertical-align: middle;\n",
       "    }\n",
       "\n",
       "    .dataframe tbody tr th {\n",
       "        vertical-align: top;\n",
       "    }\n",
       "\n",
       "    .dataframe thead th {\n",
       "        text-align: right;\n",
       "    }\n",
       "</style>\n",
       "<table border=\"1\" class=\"dataframe\">\n",
       "  <thead>\n",
       "    <tr style=\"text-align: right;\">\n",
       "      <th></th>\n",
       "      <th>App</th>\n",
       "      <th>Category</th>\n",
       "      <th>Reviews</th>\n",
       "      <th>Installs</th>\n",
       "    </tr>\n",
       "  </thead>\n",
       "  <tbody>\n",
       "    <tr>\n",
       "      <th>0</th>\n",
       "      <td>Photo Editor &amp; Candy Camera &amp; Grid &amp; ScrapBook</td>\n",
       "      <td>ART_AND_DESIGN</td>\n",
       "      <td>159</td>\n",
       "      <td>10,000+</td>\n",
       "    </tr>\n",
       "    <tr>\n",
       "      <th>1</th>\n",
       "      <td>Coloring book moana</td>\n",
       "      <td>ART_AND_DESIGN</td>\n",
       "      <td>967</td>\n",
       "      <td>500,000+</td>\n",
       "    </tr>\n",
       "    <tr>\n",
       "      <th>2</th>\n",
       "      <td>U Launcher Lite – FREE Live Cool Themes, Hide ...</td>\n",
       "      <td>ART_AND_DESIGN</td>\n",
       "      <td>87510</td>\n",
       "      <td>5,000,000+</td>\n",
       "    </tr>\n",
       "    <tr>\n",
       "      <th>3</th>\n",
       "      <td>Sketch - Draw &amp; Paint</td>\n",
       "      <td>ART_AND_DESIGN</td>\n",
       "      <td>215644</td>\n",
       "      <td>50,000,000+</td>\n",
       "    </tr>\n",
       "    <tr>\n",
       "      <th>4</th>\n",
       "      <td>Pixel Draw - Number Art Coloring Book</td>\n",
       "      <td>ART_AND_DESIGN</td>\n",
       "      <td>967</td>\n",
       "      <td>100,000+</td>\n",
       "    </tr>\n",
       "  </tbody>\n",
       "</table>\n",
       "</div>"
      ],
      "text/plain": [
       "                                                 App        Category Reviews  \\\n",
       "0     Photo Editor & Candy Camera & Grid & ScrapBook  ART_AND_DESIGN     159   \n",
       "1                                Coloring book moana  ART_AND_DESIGN     967   \n",
       "2  U Launcher Lite – FREE Live Cool Themes, Hide ...  ART_AND_DESIGN   87510   \n",
       "3                              Sketch - Draw & Paint  ART_AND_DESIGN  215644   \n",
       "4              Pixel Draw - Number Art Coloring Book  ART_AND_DESIGN     967   \n",
       "\n",
       "      Installs  \n",
       "0      10,000+  \n",
       "1     500,000+  \n",
       "2   5,000,000+  \n",
       "3  50,000,000+  \n",
       "4     100,000+  "
      ]
     },
     "execution_count": 878,
     "metadata": {},
     "output_type": "execute_result"
    }
   ],
   "source": [
    "data.head()"
   ]
  },
  {
   "cell_type": "code",
   "execution_count": 879,
   "metadata": {},
   "outputs": [],
   "source": [
    "# Convert installs to float\n",
    "data['Installs'] = data['Installs'].str.replace('+', '')\n",
    "data['Installs'] = data['Installs'].str.replace(',', '')\n",
    "data['Installs'] = pd.to_numeric(data['Installs'], errors='coerce')"
   ]
  },
  {
   "cell_type": "code",
   "execution_count": 880,
   "metadata": {},
   "outputs": [
    {
     "data": {
      "text/html": [
       "<div>\n",
       "<style scoped>\n",
       "    .dataframe tbody tr th:only-of-type {\n",
       "        vertical-align: middle;\n",
       "    }\n",
       "\n",
       "    .dataframe tbody tr th {\n",
       "        vertical-align: top;\n",
       "    }\n",
       "\n",
       "    .dataframe thead th {\n",
       "        text-align: right;\n",
       "    }\n",
       "</style>\n",
       "<table border=\"1\" class=\"dataframe\">\n",
       "  <thead>\n",
       "    <tr style=\"text-align: right;\">\n",
       "      <th></th>\n",
       "      <th>App</th>\n",
       "      <th>Category</th>\n",
       "      <th>Reviews</th>\n",
       "      <th>Installs</th>\n",
       "    </tr>\n",
       "  </thead>\n",
       "  <tbody>\n",
       "    <tr>\n",
       "      <th>0</th>\n",
       "      <td>Photo Editor &amp; Candy Camera &amp; Grid &amp; ScrapBook</td>\n",
       "      <td>ART_AND_DESIGN</td>\n",
       "      <td>159</td>\n",
       "      <td>10000</td>\n",
       "    </tr>\n",
       "    <tr>\n",
       "      <th>1</th>\n",
       "      <td>Coloring book moana</td>\n",
       "      <td>ART_AND_DESIGN</td>\n",
       "      <td>967</td>\n",
       "      <td>500000</td>\n",
       "    </tr>\n",
       "    <tr>\n",
       "      <th>2</th>\n",
       "      <td>U Launcher Lite – FREE Live Cool Themes, Hide ...</td>\n",
       "      <td>ART_AND_DESIGN</td>\n",
       "      <td>87510</td>\n",
       "      <td>5000000</td>\n",
       "    </tr>\n",
       "    <tr>\n",
       "      <th>3</th>\n",
       "      <td>Sketch - Draw &amp; Paint</td>\n",
       "      <td>ART_AND_DESIGN</td>\n",
       "      <td>215644</td>\n",
       "      <td>50000000</td>\n",
       "    </tr>\n",
       "    <tr>\n",
       "      <th>4</th>\n",
       "      <td>Pixel Draw - Number Art Coloring Book</td>\n",
       "      <td>ART_AND_DESIGN</td>\n",
       "      <td>967</td>\n",
       "      <td>100000</td>\n",
       "    </tr>\n",
       "  </tbody>\n",
       "</table>\n",
       "</div>"
      ],
      "text/plain": [
       "                                                 App        Category Reviews  \\\n",
       "0     Photo Editor & Candy Camera & Grid & ScrapBook  ART_AND_DESIGN     159   \n",
       "1                                Coloring book moana  ART_AND_DESIGN     967   \n",
       "2  U Launcher Lite – FREE Live Cool Themes, Hide ...  ART_AND_DESIGN   87510   \n",
       "3                              Sketch - Draw & Paint  ART_AND_DESIGN  215644   \n",
       "4              Pixel Draw - Number Art Coloring Book  ART_AND_DESIGN     967   \n",
       "\n",
       "   Installs  \n",
       "0     10000  \n",
       "1    500000  \n",
       "2   5000000  \n",
       "3  50000000  \n",
       "4    100000  "
      ]
     },
     "execution_count": 880,
     "metadata": {},
     "output_type": "execute_result"
    }
   ],
   "source": [
    "data.head()"
   ]
  },
  {
   "cell_type": "code",
   "execution_count": 881,
   "metadata": {},
   "outputs": [
    {
     "name": "stdout",
     "output_type": "stream",
     "text": [
      "Requirement already satisfied: chart_studio in c:\\users\\ryanb\\anaconda3\\lib\\site-packages (1.1.0)\n",
      "Requirement already satisfied: six in c:\\users\\ryanb\\appdata\\roaming\\python\\python38\\site-packages (from chart_studio) (1.15.0)\n",
      "Requirement already satisfied: requests in c:\\users\\ryanb\\anaconda3\\lib\\site-packages (from chart_studio) (2.24.0)\n",
      "Requirement already satisfied: plotly in c:\\users\\ryanb\\anaconda3\\lib\\site-packages (from chart_studio) (4.14.3)\n",
      "Requirement already satisfied: retrying>=1.3.3 in c:\\users\\ryanb\\anaconda3\\lib\\site-packages (from chart_studio) (1.3.3)\n",
      "Requirement already satisfied: idna<3,>=2.5 in c:\\users\\ryanb\\anaconda3\\lib\\site-packages (from requests->chart_studio) (2.10)\n",
      "Requirement already satisfied: certifi>=2017.4.17 in c:\\users\\ryanb\\anaconda3\\lib\\site-packages (from requests->chart_studio) (2020.6.20)\n",
      "Requirement already satisfied: urllib3!=1.25.0,!=1.25.1,<1.26,>=1.21.1 in c:\\users\\ryanb\\anaconda3\\lib\\site-packages (from requests->chart_studio) (1.25.11)\n",
      "Requirement already satisfied: chardet<4,>=3.0.2 in c:\\users\\ryanb\\anaconda3\\lib\\site-packages (from requests->chart_studio) (3.0.4)\n",
      "Note: you may need to restart the kernel to use updated packages.\n"
     ]
    }
   ],
   "source": [
    "pip install chart_studio"
   ]
  },
  {
   "cell_type": "code",
   "execution_count": 882,
   "metadata": {},
   "outputs": [],
   "source": [
    "import chart_studio.plotly as py\n",
    "import plotly.graph_objs as go\n",
    "from plotly.offline import iplot\n",
    "from plotly.tools import FigureFactory as FF\n",
    "import scipy"
   ]
  },
  {
   "cell_type": "code",
   "execution_count": 883,
   "metadata": {},
   "outputs": [
    {
     "data": {
      "text/plain": [
       "29593005.959390864"
      ]
     },
     "execution_count": 883,
     "metadata": {},
     "output_type": "execute_result"
    }
   ],
   "source": [
    "data['Installs'].mean()"
   ]
  },
  {
   "cell_type": "code",
   "execution_count": 884,
   "metadata": {},
   "outputs": [],
   "source": [
    "data['Reviews'] = pd.to_numeric(data['Reviews'], errors='coerce')"
   ]
  },
  {
   "cell_type": "code",
   "execution_count": 885,
   "metadata": {},
   "outputs": [
    {
     "data": {
      "text/plain": [
       "1178914.9763113367"
      ]
     },
     "execution_count": 885,
     "metadata": {},
     "output_type": "execute_result"
    }
   ],
   "source": [
    "data['Reviews'].mean()"
   ]
  },
  {
   "cell_type": "code",
   "execution_count": 886,
   "metadata": {},
   "outputs": [
    {
     "data": {
      "text/plain": [
       "array([     159,      967,    87510,   215644,      167,      178,\n",
       "          36815,    13791,      121,    13880,     8788,    44829,\n",
       "           4326,     1518,       55,     3632,       27,   194216,\n",
       "         224399,      450,      654,     7699,       61,      118,\n",
       "            192,    20260,      203,      136,      223,     1120,\n",
       "            227,     5035,     1015,      353,      564,     8145,\n",
       "          36639,      158,      591,      117,      176,   295221,\n",
       "           2206,       26,   174531,     1070,       85,      845,\n",
       "        5456208,    11656,    28948,   296771,   470089,    10939,\n",
       "          98509,     5241,    22508,    10291,  7165362,  4885646,\n",
       "         141980,     6979,    46618,   103078,    17682,    37000,\n",
       "         175528,  1828284,    34923,   684116,    46916,   407698,\n",
       "         702975,    32458,   235496,    11661,   653008,    23063,\n",
       "          87384,   411683,     8918,   501498,  2133296,    29690,\n",
       "         130549,   613059,  1633682,    42050,     2646,    21867,\n",
       "          32732,   243747,     2639,     1511,    44550,   501497,\n",
       "           7813,     1033,     2442,    15254,   155234,   310066,\n",
       "          12216,   388089,    92058,    88185,      493,    33387,\n",
       "         123279,    27424,    60841,    29706,   288150,    14807,\n",
       "         319692,    61201,    22998,    12398,    35928,    64448,\n",
       "          22378,  5456599,   296829,   310095,   319691,    16372,\n",
       "          58028,   736864,     1968,    35279,    35931,    17247,\n",
       "          87723,    18523,   182103,   197774,     8674,  5456708,\n",
       "          58082,   407719,   115033,    22997,      801,     8968,\n",
       "            303,      732,     1856,    50725,     1575,     6238,\n",
       "           9941,    23666,    67554,    38769,   160164,     3771,\n",
       "         256664,   787177, 78158306, 66577313,  8606259,    49173,\n",
       "        2955326,    22492, 17014787,     1403,  4305441,   441189,\n",
       "        4831125,     4919,    13762,     6086,    70616,     1200,\n",
       "          76480,   271445,   225103,    33177,    54768,   457197,\n",
       "          25562,    16404,     2508,    79658,      374,  1259075,\n",
       "           4751,    60562,    22695,    22098,   231325,    13223,\n",
       "         479908,   313633,   540930,    57146,  1225339,    19583,\n",
       "         344921,    79129,    83488,  3781770,   315441,   382120,\n",
       "         412725,  3806669,  1259849,   486824,  1157004,   423105,\n",
       "         205803,   285816,  2955325,   138026,     8936,     4253,\n",
       "       17014705, 66577446,    14835,     6388,   309872,   479909,\n",
       "          17955, 17015352,    51502,  1064049,    58341,   637309,\n",
       "        1259894,  1157003,   161610,    19446,  1225367,  1520959,\n",
       "         423138,   285820,    33249,    51504,  1175794,   852455,\n",
       "         900064,     3677,   695613,   382121,   207712,   175722,\n",
       "           2052,    79130,  1175815,   486830,  1064076,   624557,\n",
       "         522018,  1558437,   159455,  2053404,      892,   981995,\n",
       "          11118,   178934,    11297,    15370,    18194,    40606,\n",
       "         133338,    36900,  1312037,     4184,   100994,    20008,\n",
       "          13426,    18773,    26941,     7457,   135337,     7623,\n",
       "        1422858,    21404,     2143,   189313,    89868,   309617,\n",
       "           3478,    24349,    22154,    17493,    15966,     2332,\n",
       "          29344,    67772,      634,    18425, 17000166, 66509917,\n",
       "       78128208,  5637451,    12495,  2349421,      253,    17350,\n",
       "        4300936,  8595964,     6495,    76593,  4828372,      120,\n",
       "             13,       17,  1175188,    83474,    80987,   295237,\n",
       "         896118,    90082,      185,     4046,    19047,   456866,\n",
       "           5677,      826,    86956,   313403,      144,  2953886,\n",
       "          67611,      568,      712,      241,     4435,      903,\n",
       "            594,       11,   175523,       29,       38,  2371543,\n",
       "         637254,    70449,     5754,     1216,      149,   695576,\n",
       "           3005,    25243,      204,     3252,        2,        0,\n",
       "              3,       30,      486,     3873,       48,       18,\n",
       "         315390,   228737,    41269,        5,  2052407,    16801,\n",
       "           5369,     1185,       58,       88,   260137,    19666,\n",
       "            115,       20,    54090,     2520,   305367,       22,\n",
       "              6,        4,       32,      111,       24,     3640,\n",
       "         284795,    63765,  1259723,  5793284,      549,      308,\n",
       "             15,        1,  3781467,    20675,    51569,       16,\n",
       "           2068,     1902,       41,   112223,     8433,        8,\n",
       "              7,       14,       62,    20001,      420,       64,\n",
       "            226,      398,     3963,     9307,       37,   189310,\n",
       "         479939,     6450,   412888,   231446,   216513,     2111,\n",
       "             65,    40467,       90,       44,     5985,      787,\n",
       "            175,       39,       56,       93,    12111,      132,\n",
       "           7896,     2962,      631,    14051,     1238,       23,\n",
       "           8369,     5482,      725,   279917,    67854,     3782,\n",
       "         163679,  1264084,        9,     3071,     2000,     8723,\n",
       "           2115,    11510,    34079,     6849,    49580,    22650,\n",
       "          38826,     3895,     9562,    42621,    24456,    10743,\n",
       "          37090,     5285,    68025,      214,   273244,     3047,\n",
       "           9606,     1236,       40,    11066,      108,      260,\n",
       "             19,      795,      116,     2093,     3471,    68358,\n",
       "            622,     2036,    88486,     1195], dtype=int64)"
      ]
     },
     "execution_count": 886,
     "metadata": {},
     "output_type": "execute_result"
    }
   ],
   "source": [
    "data['Reviews'].unique()"
   ]
  },
  {
   "cell_type": "code",
   "execution_count": 887,
   "metadata": {},
   "outputs": [
    {
     "data": {
      "text/plain": [
       "array([     10000,     500000,    5000000,   50000000,     100000,\n",
       "            50000,    1000000,   10000000,       5000,  100000000,\n",
       "       1000000000,  500000000,       1000,        500,        100,\n",
       "                0,         10,          1,          5,         50],\n",
       "      dtype=int64)"
      ]
     },
     "execution_count": 887,
     "metadata": {},
     "output_type": "execute_result"
    }
   ],
   "source": [
    "data['Installs'].unique()"
   ]
  },
  {
   "cell_type": "code",
   "execution_count": 888,
   "metadata": {},
   "outputs": [
    {
     "data": {
      "text/plain": [
       "<AxesSubplot:xlabel='Installs', ylabel='Reviews'>"
      ]
     },
     "execution_count": 888,
     "metadata": {},
     "output_type": "execute_result"
    },
    {
     "data": {
      "image/png": "[encoded data removed]",
      "text/plain": [
       "<Figure size 432x288 with 1 Axes>"
      ]
     },
     "metadata": {
      "needs_background": "light"
     },
     "output_type": "display_data"
    }
   ],
   "source": [
    "sns.lineplot(x='Installs', y='Reviews', data=data)"
   ]
  },
  {
   "cell_type": "code",
   "execution_count": 889,
   "metadata": {},
   "outputs": [
    {
     "data": {
      "text/plain": [
       "<AxesSubplot:xlabel='Installs', ylabel='Reviews'>"
      ]
     },
     "execution_count": 889,
     "metadata": {},
     "output_type": "execute_result"
    },
    {
     "data": {
      "image/png": "[encoded data removed]",
      "text/plain": [
       "<Figure size 432x288 with 1 Axes>"
      ]
     },
     "metadata": {
      "needs_background": "light"
     },
     "output_type": "display_data"
    }
   ],
   "source": [
    "sns.scatterplot(x='Installs', y='Reviews', data=data)"
   ]
  },
  {
   "cell_type": "code",
   "execution_count": 890,
   "metadata": {},
   "outputs": [],
   "source": [
    "import math\n",
    "\n",
    "millnames = ['',' Thousand',' Million']\n",
    "\n",
    "def millify(n):\n",
    "    n = float(n)\n",
    "    millidx = max(0,min(len(millnames)-1,\n",
    "                        int(math.floor(0 if n == 0 else math.log10(abs(n))/3))))\n",
    "\n",
    "    return '{:.0f}{}'.format(n / 10**(3 * millidx), millnames[millidx])"
   ]
  },
  {
   "cell_type": "code",
   "execution_count": 891,
   "metadata": {},
   "outputs": [
    {
     "data": {
      "text/plain": [
       "App         object\n",
       "Category    object\n",
       "Reviews      int64\n",
       "Installs     int64\n",
       "dtype: object"
      ]
     },
     "execution_count": 891,
     "metadata": {},
     "output_type": "execute_result"
    }
   ],
   "source": [
    "data.dtypes"
   ]
  },
  {
   "cell_type": "code",
   "execution_count": 892,
   "metadata": {},
   "outputs": [
    {
     "data": {
      "text/plain": [
       "29593005.959390864"
      ]
     },
     "execution_count": 892,
     "metadata": {},
     "output_type": "execute_result"
    }
   ],
   "source": [
    "data['Installs'].mean()"
   ]
  },
  {
   "cell_type": "code",
   "execution_count": 893,
   "metadata": {},
   "outputs": [
    {
     "data": {
      "text/plain": [
       "1178914.9763113367"
      ]
     },
     "execution_count": 893,
     "metadata": {},
     "output_type": "execute_result"
    }
   ],
   "source": [
    "data['Reviews'].mean()"
   ]
  },
  {
   "cell_type": "code",
   "execution_count": 894,
   "metadata": {},
   "outputs": [
    {
     "data": {
      "text/plain": [
       "591"
      ]
     },
     "execution_count": 894,
     "metadata": {},
     "output_type": "execute_result"
    }
   ],
   "source": [
    "len(data['Installs'])"
   ]
  },
  {
   "cell_type": "code",
   "execution_count": 895,
   "metadata": {},
   "outputs": [
    {
     "data": {
      "text/plain": [
       "591"
      ]
     },
     "execution_count": 895,
     "metadata": {},
     "output_type": "execute_result"
    }
   ],
   "source": [
    "len(data['Reviews'])"
   ]
  },
  {
   "cell_type": "code",
   "execution_count": 896,
   "metadata": {},
   "outputs": [],
   "source": [
    "import matplotlib.pyplot as plt\n",
    "import numpy as np\n",
    "import pandas as pd\n",
    "import seaborn as sns\n",
    "import warnings\n",
    "from pylab import rcParams\n",
    "from scipy.stats import f_oneway\n",
    "from scipy.stats import ttest_ind"
   ]
  },
  {
   "cell_type": "code",
   "execution_count": 897,
   "metadata": {},
   "outputs": [],
   "source": [
    "%matplotlib inline\n",
    "warnings.filterwarnings(\"ignore\")\n",
    "rcParams['figure.figsize'] = 20,10\n",
    "rcParams['font.size'] = 30\n",
    "sns.set()\n",
    "np.random.seed(8)"
   ]
  },
  {
   "cell_type": "code",
   "execution_count": 898,
   "metadata": {},
   "outputs": [],
   "source": [
    "def plot_distribution(g):\n",
    "    plt.figure()\n",
    "    ax = sns.distplot(g)\n",
    "    plt.axvline(np.mean(g), color=\"k\", linestyle=\"dashed\", linewidth=5)\n",
    "    _, max_ = plt.ylim()\n",
    "    plt.text(\n",
    "        g.mean() + g.mean() / 10,\n",
    "        max_ - max_ / 10,\n",
    "        \"Mean: {:.2f}\".format(g.mean()),\n",
    "    )\n",
    "    return plt.figure"
   ]
  },
  {
   "cell_type": "code",
   "execution_count": 899,
   "metadata": {},
   "outputs": [
    {
     "data": {
      "text/plain": [
       "8871              0\n",
       "5307              0\n",
       "7434              0\n",
       "10101             1\n",
       "6257              1\n",
       "            ...    \n",
       "2554     1000000000\n",
       "4144     1000000000\n",
       "865      1000000000\n",
       "2604     1000000000\n",
       "3943     1000000000\n",
       "Name: Installs, Length: 591, dtype: int64"
      ]
     },
     "execution_count": 899,
     "metadata": {},
     "output_type": "execute_result"
    }
   ],
   "source": [
    "# convert installs to numpy and sort from lowest to highest\n",
    "installs = data['Installs'].to_numpy()\n",
    "installs = data['Installs'].sort_values(ascending=True)\n",
    "installs"
   ]
  },
  {
   "cell_type": "code",
   "execution_count": 900,
   "metadata": {},
   "outputs": [
    {
     "data": {
      "text/plain": [
       "8871            0\n",
       "9330            0\n",
       "6470            0\n",
       "10069           0\n",
       "9137            0\n",
       "           ...   \n",
       "2611     66577313\n",
       "2545     66577313\n",
       "2604     66577446\n",
       "3943     78128208\n",
       "2544     78158306\n",
       "Name: Reviews, Length: 591, dtype: int64"
      ]
     },
     "execution_count": 900,
     "metadata": {},
     "output_type": "execute_result"
    }
   ],
   "source": [
    "reviews = data['Reviews'].to_numpy()\n",
    "reviews = data['Reviews'].sort_values(ascending=True)\n",
    "reviews"
   ]
  },
  {
   "cell_type": "code",
   "execution_count": 901,
   "metadata": {},
   "outputs": [
    {
     "name": "stdout",
     "output_type": "stream",
     "text": [
      "Requirement already satisfied: millify in c:\\users\\ryanb\\anaconda3\\lib\\site-packages (0.1.1)\n",
      "Note: you may need to restart the kernel to use updated packages.\n"
     ]
    }
   ],
   "source": [
    "pip install millify"
   ]
  },
  {
   "cell_type": "code",
   "execution_count": 902,
   "metadata": {},
   "outputs": [
    {
     "data": {
      "text/plain": [
       "'12.34M'"
      ]
     },
     "execution_count": 902,
     "metadata": {},
     "output_type": "execute_result"
    }
   ],
   "source": [
    "from millify import millify\n",
    "millify(12343532, precision=2)"
   ]
  },
  {
   "cell_type": "code",
   "execution_count": 903,
   "metadata": {},
   "outputs": [
    {
     "data": {
      "text/plain": [
       "0         0\n",
       "1         0\n",
       "2         0\n",
       "3         1\n",
       "4         1\n",
       "         ..\n",
       "10765    1B\n",
       "10799    1B\n",
       "10825    1B\n",
       "10826    1B\n",
       "10832    1B\n",
       "Name: converted_installs, Length: 591, dtype: object"
      ]
     },
     "execution_count": 903,
     "metadata": {},
     "output_type": "execute_result"
    }
   ],
   "source": [
    "# format installs into hundreds,thousands,millions\n",
    "millify_installs = []\n",
    "for i in (installs):\n",
    "   millify_installs.append(millify(i, precision=3))\n",
    "data['converted_installs'] = np.array(millify_installs)\n",
    "data['converted_installs']"
   ]
  },
  {
   "cell_type": "code",
   "execution_count": 904,
   "metadata": {},
   "outputs": [
    {
     "data": {
      "text/plain": [
       "0              0\n",
       "1              0\n",
       "2              0\n",
       "3              0\n",
       "4              0\n",
       "          ...   \n",
       "10765    66.577M\n",
       "10799    66.577M\n",
       "10825    66.577M\n",
       "10826    78.128M\n",
       "10832    78.158M\n",
       "Name: converted_reviews, Length: 591, dtype: object"
      ]
     },
     "execution_count": 904,
     "metadata": {},
     "output_type": "execute_result"
    }
   ],
   "source": [
    "# format reviews into hundreds,thousands,millions\n",
    "millify_reviews = []\n",
    "for i in (reviews):\n",
    "    millify_reviews.append(millify(i, precision=3))\n",
    "data['converted_reviews'] = np.array(millify_reviews)\n",
    "data['converted_reviews']"
   ]
  },
  {
   "cell_type": "code",
   "execution_count": 905,
   "metadata": {},
   "outputs": [
    {
     "data": {
      "image/png": "[encoded data removed]",
      "text/plain": [
       "<Figure size 1440x720 with 1 Axes>"
      ]
     },
     "metadata": {},
     "output_type": "display_data"
    }
   ],
   "source": [
    "plots = sns.countplot(x='converted_installs', data=data)\n",
    "plt.xlabel('Number of Installs', size=15)\n",
    "plt.ylabel('Count', size=15)\n",
    "for bar in plots.patches: \n",
    "    plots.annotate(format(bar.get_height(), '.0f'),  \n",
    "                   (bar.get_x() + bar.get_width() / 2,  \n",
    "                    bar.get_height()), ha='center', va='center', \n",
    "                   size=15, xytext=(0, 8), \n",
    "                   textcoords='offset points') \n",
    "plt.show()"
   ]
  },
  {
   "cell_type": "code",
   "execution_count": 906,
   "metadata": {},
   "outputs": [
    {
     "data": {
      "text/plain": [
       "20"
      ]
     },
     "execution_count": 906,
     "metadata": {},
     "output_type": "execute_result"
    }
   ],
   "source": [
    "len(data['converted_installs'].unique())"
   ]
  },
  {
   "cell_type": "code",
   "execution_count": 907,
   "metadata": {},
   "outputs": [
    {
     "data": {
      "text/plain": [
       "591"
      ]
     },
     "execution_count": 907,
     "metadata": {},
     "output_type": "execute_result"
    }
   ],
   "source": [
    "len(data['converted_installs'])"
   ]
  },
  {
   "cell_type": "code",
   "execution_count": 908,
   "metadata": {},
   "outputs": [
    {
     "data": {
      "text/plain": [
       "App                   111\n",
       "Category              111\n",
       "Reviews               111\n",
       "Installs              111\n",
       "converted_installs    111\n",
       "converted_reviews     111\n",
       "dtype: int64"
      ]
     },
     "execution_count": 908,
     "metadata": {},
     "output_type": "execute_result"
    }
   ],
   "source": [
    "data.loc[data['converted_installs'] == '1M'].count()"
   ]
  },
  {
   "cell_type": "code",
   "execution_count": 909,
   "metadata": {},
   "outputs": [
    {
     "data": {
      "text/plain": [
       "591"
      ]
     },
     "execution_count": 909,
     "metadata": {},
     "output_type": "execute_result"
    }
   ],
   "source": [
    "len(data['converted_reviews'])"
   ]
  },
  {
   "cell_type": "code",
   "execution_count": 910,
   "metadata": {},
   "outputs": [
    {
     "data": {
      "text/plain": [
       "467"
      ]
     },
     "execution_count": 910,
     "metadata": {},
     "output_type": "execute_result"
    }
   ],
   "source": [
    "len(data['converted_reviews'].unique())"
   ]
  },
  {
   "cell_type": "code",
   "execution_count": 911,
   "metadata": {},
   "outputs": [
    {
     "data": {
      "text/plain": [
       "0           10000.0\n",
       "1          500000.0\n",
       "2         5000000.0\n",
       "3        50000000.0\n",
       "4          100000.0\n",
       "            ...    \n",
       "10765      100000.0\n",
       "10799      100000.0\n",
       "10825         100.0\n",
       "10826     5000000.0\n",
       "10832      100000.0\n",
       "Name: Installs, Length: 591, dtype: float64"
      ]
     },
     "execution_count": 911,
     "metadata": {},
     "output_type": "execute_result"
    }
   ],
   "source": [
    "data['Installs'] = data['Installs'].apply(lambda x: float(x))\n",
    "data['Installs']"
   ]
  },
  {
   "cell_type": "code",
   "execution_count": 912,
   "metadata": {},
   "outputs": [
    {
     "data": {
      "text/plain": [
       "count     591\n",
       "unique     20\n",
       "top       10M\n",
       "freq      113\n",
       "Name: converted_installs, dtype: object"
      ]
     },
     "execution_count": 912,
     "metadata": {},
     "output_type": "execute_result"
    }
   ],
   "source": [
    "data['converted_installs'].describe()"
   ]
  },
  {
   "cell_type": "markdown",
   "metadata": {},
   "source": [
    "# T - Test "
   ]
  },
  {
   "cell_type": "code",
   "execution_count": 913,
   "metadata": {},
   "outputs": [
    {
     "data": {
      "text/plain": [
       "count    5.910000e+02\n",
       "mean     2.959301e+07\n",
       "std      1.323050e+08\n",
       "min      0.000000e+00\n",
       "25%      7.500000e+04\n",
       "50%      1.000000e+06\n",
       "75%      1.000000e+07\n",
       "max      1.000000e+09\n",
       "Name: Installs, dtype: float64"
      ]
     },
     "execution_count": 913,
     "metadata": {},
     "output_type": "execute_result"
    }
   ],
   "source": [
    "installs.describe()"
   ]
  },
  {
   "cell_type": "code",
   "execution_count": 914,
   "metadata": {},
   "outputs": [
    {
     "data": {
      "text/plain": [
       "count    5.910000e+02\n",
       "mean     1.178915e+06\n",
       "std      7.245697e+06\n",
       "min      0.000000e+00\n",
       "25%      6.440000e+02\n",
       "50%      2.000800e+04\n",
       "75%      2.160785e+05\n",
       "max      7.815831e+07\n",
       "Name: Reviews, dtype: float64"
      ]
     },
     "execution_count": 914,
     "metadata": {},
     "output_type": "execute_result"
    }
   ],
   "source": [
    "reviews.describe()"
   ]
  },
  {
   "cell_type": "code",
   "execution_count": 915,
   "metadata": {},
   "outputs": [],
   "source": [
    "from scipy import stats\n",
    "var_installs = installs.var(ddof=1)\n",
    "var_reviews = reviews.var(ddof=1)\n",
    "N = 591"
   ]
  },
  {
   "cell_type": "code",
   "execution_count": 916,
   "metadata": {},
   "outputs": [
    {
     "data": {
      "text/plain": [
       "93693982.7907211"
      ]
     },
     "execution_count": 916,
     "metadata": {},
     "output_type": "execute_result"
    }
   ],
   "source": [
    "# standard deviation\n",
    "s = np.sqrt((var_installs + var_reviews)/2)\n",
    "s"
   ]
  },
  {
   "cell_type": "code",
   "execution_count": 917,
   "metadata": {},
   "outputs": [
    {
     "data": {
      "text/plain": [
       "5.2131570531957"
      ]
     },
     "execution_count": 917,
     "metadata": {},
     "output_type": "execute_result"
    }
   ],
   "source": [
    "# calculate the t-statistics\n",
    "t = (installs.mean() - reviews.mean())/(s*np.sqrt(2/591))\n",
    "t"
   ]
  },
  {
   "cell_type": "code",
   "execution_count": 918,
   "metadata": {},
   "outputs": [],
   "source": [
    "# compare with critical t-value\n",
    "df = (2*N - 2)\n",
    "p = 1 - stats.t.cdf(t,df=df)"
   ]
  },
  {
   "cell_type": "code",
   "execution_count": 919,
   "metadata": {},
   "outputs": [
    {
     "name": "stdout",
     "output_type": "stream",
     "text": [
      "t= 5.2131570531957\n",
      "p = 2.190332071272394e-07\n"
     ]
    }
   ],
   "source": [
    "print(\"t= \" + str(t))\n",
    "print(\"p = \" + str(2*p))"
   ]
  },
  {
   "cell_type": "markdown",
   "metadata": {},
   "source": [
    "# Individual Category Charts"
   ]
  },
  {
   "cell_type": "code",
   "execution_count": 920,
   "metadata": {},
   "outputs": [
    {
     "data": {
      "text/html": [
       "<div>\n",
       "<style scoped>\n",
       "    .dataframe tbody tr th:only-of-type {\n",
       "        vertical-align: middle;\n",
       "    }\n",
       "\n",
       "    .dataframe tbody tr th {\n",
       "        vertical-align: top;\n",
       "    }\n",
       "\n",
       "    .dataframe thead th {\n",
       "        text-align: right;\n",
       "    }\n",
       "</style>\n",
       "<table border=\"1\" class=\"dataframe\">\n",
       "  <thead>\n",
       "    <tr style=\"text-align: right;\">\n",
       "      <th></th>\n",
       "      <th>App</th>\n",
       "      <th>Category</th>\n",
       "      <th>Reviews</th>\n",
       "      <th>Installs</th>\n",
       "      <th>converted_installs</th>\n",
       "      <th>converted_reviews</th>\n",
       "    </tr>\n",
       "  </thead>\n",
       "  <tbody>\n",
       "    <tr>\n",
       "      <th>0</th>\n",
       "      <td>Photo Editor &amp; Candy Camera &amp; Grid &amp; ScrapBook</td>\n",
       "      <td>ART_AND_DESIGN</td>\n",
       "      <td>159</td>\n",
       "      <td>10000.0</td>\n",
       "      <td>0</td>\n",
       "      <td>0</td>\n",
       "    </tr>\n",
       "    <tr>\n",
       "      <th>1</th>\n",
       "      <td>Coloring book moana</td>\n",
       "      <td>ART_AND_DESIGN</td>\n",
       "      <td>967</td>\n",
       "      <td>500000.0</td>\n",
       "      <td>0</td>\n",
       "      <td>0</td>\n",
       "    </tr>\n",
       "    <tr>\n",
       "      <th>2</th>\n",
       "      <td>U Launcher Lite – FREE Live Cool Themes, Hide ...</td>\n",
       "      <td>ART_AND_DESIGN</td>\n",
       "      <td>87510</td>\n",
       "      <td>5000000.0</td>\n",
       "      <td>0</td>\n",
       "      <td>0</td>\n",
       "    </tr>\n",
       "    <tr>\n",
       "      <th>3</th>\n",
       "      <td>Sketch - Draw &amp; Paint</td>\n",
       "      <td>ART_AND_DESIGN</td>\n",
       "      <td>215644</td>\n",
       "      <td>50000000.0</td>\n",
       "      <td>1</td>\n",
       "      <td>0</td>\n",
       "    </tr>\n",
       "    <tr>\n",
       "      <th>4</th>\n",
       "      <td>Pixel Draw - Number Art Coloring Book</td>\n",
       "      <td>ART_AND_DESIGN</td>\n",
       "      <td>967</td>\n",
       "      <td>100000.0</td>\n",
       "      <td>1</td>\n",
       "      <td>0</td>\n",
       "    </tr>\n",
       "    <tr>\n",
       "      <th>...</th>\n",
       "      <td>...</td>\n",
       "      <td>...</td>\n",
       "      <td>...</td>\n",
       "      <td>...</td>\n",
       "      <td>...</td>\n",
       "      <td>...</td>\n",
       "    </tr>\n",
       "    <tr>\n",
       "      <th>7174</th>\n",
       "      <td>Easy DIY CD Craft Ideas</td>\n",
       "      <td>ART_AND_DESIGN</td>\n",
       "      <td>7</td>\n",
       "      <td>5000.0</td>\n",
       "      <td>10M</td>\n",
       "      <td>295.237k</td>\n",
       "    </tr>\n",
       "    <tr>\n",
       "      <th>8679</th>\n",
       "      <td>Dp for girls</td>\n",
       "      <td>ART_AND_DESIGN</td>\n",
       "      <td>175</td>\n",
       "      <td>50000.0</td>\n",
       "      <td>10M</td>\n",
       "      <td>479.909k</td>\n",
       "    </tr>\n",
       "    <tr>\n",
       "      <th>8712</th>\n",
       "      <td>Name Art DP - Focus n Filter Text 2018</td>\n",
       "      <td>ART_AND_DESIGN</td>\n",
       "      <td>132</td>\n",
       "      <td>10000.0</td>\n",
       "      <td>10M</td>\n",
       "      <td>540.93k</td>\n",
       "    </tr>\n",
       "    <tr>\n",
       "      <th>8871</th>\n",
       "      <td>Test Application DT 02</td>\n",
       "      <td>ART_AND_DESIGN</td>\n",
       "      <td>0</td>\n",
       "      <td>0.0</td>\n",
       "      <td>10M</td>\n",
       "      <td>637.309k</td>\n",
       "    </tr>\n",
       "    <tr>\n",
       "      <th>8888</th>\n",
       "      <td>Spring flowers theme couleurs d t space</td>\n",
       "      <td>ART_AND_DESIGN</td>\n",
       "      <td>1</td>\n",
       "      <td>100.0</td>\n",
       "      <td>10M</td>\n",
       "      <td>653.008k</td>\n",
       "    </tr>\n",
       "  </tbody>\n",
       "</table>\n",
       "<p>65 rows × 6 columns</p>\n",
       "</div>"
      ],
      "text/plain": [
       "                                                    App        Category  \\\n",
       "0        Photo Editor & Candy Camera & Grid & ScrapBook  ART_AND_DESIGN   \n",
       "1                                   Coloring book moana  ART_AND_DESIGN   \n",
       "2     U Launcher Lite – FREE Live Cool Themes, Hide ...  ART_AND_DESIGN   \n",
       "3                                 Sketch - Draw & Paint  ART_AND_DESIGN   \n",
       "4                 Pixel Draw - Number Art Coloring Book  ART_AND_DESIGN   \n",
       "...                                                 ...             ...   \n",
       "7174                            Easy DIY CD Craft Ideas  ART_AND_DESIGN   \n",
       "8679                                       Dp for girls  ART_AND_DESIGN   \n",
       "8712             Name Art DP - Focus n Filter Text 2018  ART_AND_DESIGN   \n",
       "8871                             Test Application DT 02  ART_AND_DESIGN   \n",
       "8888            Spring flowers theme couleurs d t space  ART_AND_DESIGN   \n",
       "\n",
       "      Reviews    Installs converted_installs converted_reviews  \n",
       "0         159     10000.0                  0                 0  \n",
       "1         967    500000.0                  0                 0  \n",
       "2       87510   5000000.0                  0                 0  \n",
       "3      215644  50000000.0                  1                 0  \n",
       "4         967    100000.0                  1                 0  \n",
       "...       ...         ...                ...               ...  \n",
       "7174        7      5000.0                10M          295.237k  \n",
       "8679      175     50000.0                10M          479.909k  \n",
       "8712      132     10000.0                10M           540.93k  \n",
       "8871        0         0.0                10M          637.309k  \n",
       "8888        1       100.0                10M          653.008k  \n",
       "\n",
       "[65 rows x 6 columns]"
      ]
     },
     "execution_count": 920,
     "metadata": {},
     "output_type": "execute_result"
    }
   ],
   "source": [
    "artInstalls = (data.loc[data['Category'] == 'ART_AND_DESIGN'])\n",
    "artInstalls"
   ]
  },
  {
   "cell_type": "code",
   "execution_count": 921,
   "metadata": {},
   "outputs": [
    {
     "data": {
      "image/png": "[encoded data removed]",
      "text/plain": [
       "<Figure size 1440x720 with 1 Axes>"
      ]
     },
     "metadata": {},
     "output_type": "display_data"
    }
   ],
   "source": [
    "# ART AND DESIGN VISUALIZATION OF NUMBER OF INSTALLS\n",
    "plots = sns.countplot(x=artInstalls['converted_installs'], data=data)\n",
    "plt.xlabel('Number of Installs', size=15)\n",
    "plt.ylabel('Number of Apps', size=15)\n",
    "plt.title('Number of Art & Design Installs', size=20)\n",
    "for bar in plots.patches: \n",
    "    plots.annotate(format(bar.get_height(), '.0f'),  \n",
    "                   (bar.get_x() + bar.get_width() / 2,  \n",
    "                    bar.get_height()), ha='center', va='center', \n",
    "                   size=15, xytext=(0, 8), \n",
    "                   textcoords='offset points') \n",
    "plt.show()"
   ]
  },
  {
   "cell_type": "code",
   "execution_count": 922,
   "metadata": {},
   "outputs": [
    {
     "data": {
      "text/html": [
       "<div>\n",
       "<style scoped>\n",
       "    .dataframe tbody tr th:only-of-type {\n",
       "        vertical-align: middle;\n",
       "    }\n",
       "\n",
       "    .dataframe tbody tr th {\n",
       "        vertical-align: top;\n",
       "    }\n",
       "\n",
       "    .dataframe thead th {\n",
       "        text-align: right;\n",
       "    }\n",
       "</style>\n",
       "<table border=\"1\" class=\"dataframe\">\n",
       "  <thead>\n",
       "    <tr style=\"text-align: right;\">\n",
       "      <th></th>\n",
       "      <th>App</th>\n",
       "      <th>Category</th>\n",
       "      <th>Reviews</th>\n",
       "      <th>Installs</th>\n",
       "      <th>converted_installs</th>\n",
       "      <th>converted_reviews</th>\n",
       "    </tr>\n",
       "  </thead>\n",
       "  <tbody>\n",
       "    <tr>\n",
       "      <th>855</th>\n",
       "      <td>Netflix</td>\n",
       "      <td>ENTERTAINMENT</td>\n",
       "      <td>5456208</td>\n",
       "      <td>100000000.0</td>\n",
       "      <td>1k</td>\n",
       "      <td>8</td>\n",
       "    </tr>\n",
       "    <tr>\n",
       "      <th>856</th>\n",
       "      <td>Complete Spanish Movies</td>\n",
       "      <td>ENTERTAINMENT</td>\n",
       "      <td>11656</td>\n",
       "      <td>1000000.0</td>\n",
       "      <td>1k</td>\n",
       "      <td>9</td>\n",
       "    </tr>\n",
       "    <tr>\n",
       "      <th>857</th>\n",
       "      <td>Pluto TV - It’s Free TV</td>\n",
       "      <td>ENTERTAINMENT</td>\n",
       "      <td>28948</td>\n",
       "      <td>1000000.0</td>\n",
       "      <td>1k</td>\n",
       "      <td>11</td>\n",
       "    </tr>\n",
       "    <tr>\n",
       "      <th>858</th>\n",
       "      <td>Tubi TV - Free Movies &amp; TV</td>\n",
       "      <td>ENTERTAINMENT</td>\n",
       "      <td>296771</td>\n",
       "      <td>10000000.0</td>\n",
       "      <td>1k</td>\n",
       "      <td>13</td>\n",
       "    </tr>\n",
       "    <tr>\n",
       "      <th>859</th>\n",
       "      <td>YouTube Kids</td>\n",
       "      <td>ENTERTAINMENT</td>\n",
       "      <td>470089</td>\n",
       "      <td>50000000.0</td>\n",
       "      <td>1k</td>\n",
       "      <td>14</td>\n",
       "    </tr>\n",
       "    <tr>\n",
       "      <th>...</th>\n",
       "      <td>...</td>\n",
       "      <td>...</td>\n",
       "      <td>...</td>\n",
       "      <td>...</td>\n",
       "      <td>...</td>\n",
       "      <td>...</td>\n",
       "    </tr>\n",
       "    <tr>\n",
       "      <th>999</th>\n",
       "      <td>Meme Creator</td>\n",
       "      <td>ENTERTAINMENT</td>\n",
       "      <td>38769</td>\n",
       "      <td>1000000.0</td>\n",
       "      <td>100k</td>\n",
       "      <td>2.646k</td>\n",
       "    </tr>\n",
       "    <tr>\n",
       "      <th>1000</th>\n",
       "      <td>Imgur: Find funny GIFs, memes &amp; watch viral vi...</td>\n",
       "      <td>ENTERTAINMENT</td>\n",
       "      <td>160164</td>\n",
       "      <td>10000000.0</td>\n",
       "      <td>100k</td>\n",
       "      <td>2.962k</td>\n",
       "    </tr>\n",
       "    <tr>\n",
       "      <th>1001</th>\n",
       "      <td>Meme Generator</td>\n",
       "      <td>ENTERTAINMENT</td>\n",
       "      <td>3771</td>\n",
       "      <td>100000.0</td>\n",
       "      <td>100k</td>\n",
       "      <td>3.005k</td>\n",
       "    </tr>\n",
       "    <tr>\n",
       "      <th>1002</th>\n",
       "      <td>SketchBook - draw and paint</td>\n",
       "      <td>ENTERTAINMENT</td>\n",
       "      <td>256664</td>\n",
       "      <td>10000000.0</td>\n",
       "      <td>100k</td>\n",
       "      <td>3.047k</td>\n",
       "    </tr>\n",
       "    <tr>\n",
       "      <th>1003</th>\n",
       "      <td>Colorfy: Coloring Book for Adults - Free</td>\n",
       "      <td>ENTERTAINMENT</td>\n",
       "      <td>787177</td>\n",
       "      <td>10000000.0</td>\n",
       "      <td>100k</td>\n",
       "      <td>3.071k</td>\n",
       "    </tr>\n",
       "  </tbody>\n",
       "</table>\n",
       "<p>149 rows × 6 columns</p>\n",
       "</div>"
      ],
      "text/plain": [
       "                                                    App       Category  \\\n",
       "855                                             Netflix  ENTERTAINMENT   \n",
       "856                             Complete Spanish Movies  ENTERTAINMENT   \n",
       "857                             Pluto TV - It’s Free TV  ENTERTAINMENT   \n",
       "858                          Tubi TV - Free Movies & TV  ENTERTAINMENT   \n",
       "859                                        YouTube Kids  ENTERTAINMENT   \n",
       "...                                                 ...            ...   \n",
       "999                                        Meme Creator  ENTERTAINMENT   \n",
       "1000  Imgur: Find funny GIFs, memes & watch viral vi...  ENTERTAINMENT   \n",
       "1001                                     Meme Generator  ENTERTAINMENT   \n",
       "1002                        SketchBook - draw and paint  ENTERTAINMENT   \n",
       "1003           Colorfy: Coloring Book for Adults - Free  ENTERTAINMENT   \n",
       "\n",
       "      Reviews     Installs converted_installs converted_reviews  \n",
       "855   5456208  100000000.0                 1k                 8  \n",
       "856     11656    1000000.0                 1k                 9  \n",
       "857     28948    1000000.0                 1k                11  \n",
       "858    296771   10000000.0                 1k                13  \n",
       "859    470089   50000000.0                 1k                14  \n",
       "...       ...          ...                ...               ...  \n",
       "999     38769    1000000.0               100k            2.646k  \n",
       "1000   160164   10000000.0               100k            2.962k  \n",
       "1001     3771     100000.0               100k            3.005k  \n",
       "1002   256664   10000000.0               100k            3.047k  \n",
       "1003   787177   10000000.0               100k            3.071k  \n",
       "\n",
       "[149 rows x 6 columns]"
      ]
     },
     "execution_count": 922,
     "metadata": {},
     "output_type": "execute_result"
    }
   ],
   "source": [
    "entertainmentInstalls = data.loc[data['Category'] == 'ENTERTAINMENT']\n",
    "entertainmentInstalls"
   ]
  },
  {
   "cell_type": "code",
   "execution_count": 923,
   "metadata": {},
   "outputs": [
    {
     "data": {
      "image/png": "[encoded data removed]",
      "text/plain": [
       "<Figure size 1440x720 with 1 Axes>"
      ]
     },
     "metadata": {},
     "output_type": "display_data"
    }
   ],
   "source": [
    "# ENTERTAINMENT VISUALIZATION OF NUMBER OF INSTALLS\n",
    "plots = sns.countplot(x=entertainmentInstalls['converted_installs'], data=data)\n",
    "plt.xlabel('Number of Installs', size=15)\n",
    "plt.ylabel('Number of Apps', size=15)\n",
    "plt.title('Number of Entertainment Installs', size=20)\n",
    "for bar in plots.patches: \n",
    "    plots.annotate(format(bar.get_height(), '.0f'),  \n",
    "                   (bar.get_x() + bar.get_width() / 2,  \n",
    "                    bar.get_height()), ha='center', va='center', \n",
    "                   size=15, xytext=(0, 8), \n",
    "                   textcoords='offset points') \n",
    "plt.show()"
   ]
  },
  {
   "cell_type": "code",
   "execution_count": 924,
   "metadata": {},
   "outputs": [
    {
     "data": {
      "text/html": [
       "<div>\n",
       "<style scoped>\n",
       "    .dataframe tbody tr th:only-of-type {\n",
       "        vertical-align: middle;\n",
       "    }\n",
       "\n",
       "    .dataframe tbody tr th {\n",
       "        vertical-align: top;\n",
       "    }\n",
       "\n",
       "    .dataframe thead th {\n",
       "        text-align: right;\n",
       "    }\n",
       "</style>\n",
       "<table border=\"1\" class=\"dataframe\">\n",
       "  <thead>\n",
       "    <tr style=\"text-align: right;\">\n",
       "      <th></th>\n",
       "      <th>App</th>\n",
       "      <th>Category</th>\n",
       "      <th>Reviews</th>\n",
       "      <th>Installs</th>\n",
       "      <th>converted_installs</th>\n",
       "      <th>converted_reviews</th>\n",
       "    </tr>\n",
       "  </thead>\n",
       "  <tbody>\n",
       "    <tr>\n",
       "      <th>2544</th>\n",
       "      <td>Facebook</td>\n",
       "      <td>SOCIAL</td>\n",
       "      <td>78158306</td>\n",
       "      <td>1.000000e+09</td>\n",
       "      <td>100k</td>\n",
       "      <td>3.252k</td>\n",
       "    </tr>\n",
       "    <tr>\n",
       "      <th>2545</th>\n",
       "      <td>Instagram</td>\n",
       "      <td>SOCIAL</td>\n",
       "      <td>66577313</td>\n",
       "      <td>1.000000e+09</td>\n",
       "      <td>100k</td>\n",
       "      <td>3.471k</td>\n",
       "    </tr>\n",
       "    <tr>\n",
       "      <th>2546</th>\n",
       "      <td>Facebook Lite</td>\n",
       "      <td>SOCIAL</td>\n",
       "      <td>8606259</td>\n",
       "      <td>5.000000e+08</td>\n",
       "      <td>100k</td>\n",
       "      <td>3.478k</td>\n",
       "    </tr>\n",
       "    <tr>\n",
       "      <th>2547</th>\n",
       "      <td>Messages, Text and Video Chat for Messenger</td>\n",
       "      <td>SOCIAL</td>\n",
       "      <td>49173</td>\n",
       "      <td>1.000000e+07</td>\n",
       "      <td>100k</td>\n",
       "      <td>3.632k</td>\n",
       "    </tr>\n",
       "    <tr>\n",
       "      <th>2548</th>\n",
       "      <td>Tumblr</td>\n",
       "      <td>SOCIAL</td>\n",
       "      <td>2955326</td>\n",
       "      <td>1.000000e+08</td>\n",
       "      <td>100k</td>\n",
       "      <td>3.64k</td>\n",
       "    </tr>\n",
       "    <tr>\n",
       "      <th>...</th>\n",
       "      <td>...</td>\n",
       "      <td>...</td>\n",
       "      <td>...</td>\n",
       "      <td>...</td>\n",
       "      <td>...</td>\n",
       "      <td>...</td>\n",
       "    </tr>\n",
       "    <tr>\n",
       "      <th>10714</th>\n",
       "      <td>FunForMobile Ringtones &amp; Chat</td>\n",
       "      <td>SOCIAL</td>\n",
       "      <td>68358</td>\n",
       "      <td>5.000000e+06</td>\n",
       "      <td>1B</td>\n",
       "      <td>66.51M</td>\n",
       "    </tr>\n",
       "    <tr>\n",
       "      <th>10765</th>\n",
       "      <td>Chat For Strangers - Video Chat</td>\n",
       "      <td>SOCIAL</td>\n",
       "      <td>622</td>\n",
       "      <td>1.000000e+05</td>\n",
       "      <td>1B</td>\n",
       "      <td>66.577M</td>\n",
       "    </tr>\n",
       "    <tr>\n",
       "      <th>10799</th>\n",
       "      <td>Fr Daoud Lamei</td>\n",
       "      <td>SOCIAL</td>\n",
       "      <td>2036</td>\n",
       "      <td>1.000000e+05</td>\n",
       "      <td>1B</td>\n",
       "      <td>66.577M</td>\n",
       "    </tr>\n",
       "    <tr>\n",
       "      <th>10825</th>\n",
       "      <td>Naruto &amp; Boruto FR</td>\n",
       "      <td>SOCIAL</td>\n",
       "      <td>7</td>\n",
       "      <td>1.000000e+02</td>\n",
       "      <td>1B</td>\n",
       "      <td>66.577M</td>\n",
       "    </tr>\n",
       "    <tr>\n",
       "      <th>10826</th>\n",
       "      <td>Frim: get new friends on local chat rooms</td>\n",
       "      <td>SOCIAL</td>\n",
       "      <td>88486</td>\n",
       "      <td>5.000000e+06</td>\n",
       "      <td>1B</td>\n",
       "      <td>78.128M</td>\n",
       "    </tr>\n",
       "  </tbody>\n",
       "</table>\n",
       "<p>295 rows × 6 columns</p>\n",
       "</div>"
      ],
      "text/plain": [
       "                                               App Category   Reviews  \\\n",
       "2544                                      Facebook   SOCIAL  78158306   \n",
       "2545                                     Instagram   SOCIAL  66577313   \n",
       "2546                                 Facebook Lite   SOCIAL   8606259   \n",
       "2547   Messages, Text and Video Chat for Messenger   SOCIAL     49173   \n",
       "2548                                        Tumblr   SOCIAL   2955326   \n",
       "...                                            ...      ...       ...   \n",
       "10714                FunForMobile Ringtones & Chat   SOCIAL     68358   \n",
       "10765              Chat For Strangers - Video Chat   SOCIAL       622   \n",
       "10799                               Fr Daoud Lamei   SOCIAL      2036   \n",
       "10825                           Naruto & Boruto FR   SOCIAL         7   \n",
       "10826    Frim: get new friends on local chat rooms   SOCIAL     88486   \n",
       "\n",
       "           Installs converted_installs converted_reviews  \n",
       "2544   1.000000e+09               100k            3.252k  \n",
       "2545   1.000000e+09               100k            3.471k  \n",
       "2546   5.000000e+08               100k            3.478k  \n",
       "2547   1.000000e+07               100k            3.632k  \n",
       "2548   1.000000e+08               100k             3.64k  \n",
       "...             ...                ...               ...  \n",
       "10714  5.000000e+06                 1B            66.51M  \n",
       "10765  1.000000e+05                 1B           66.577M  \n",
       "10799  1.000000e+05                 1B           66.577M  \n",
       "10825  1.000000e+02                 1B           66.577M  \n",
       "10826  5.000000e+06                 1B           78.128M  \n",
       "\n",
       "[295 rows x 6 columns]"
      ]
     },
     "execution_count": 924,
     "metadata": {},
     "output_type": "execute_result"
    }
   ],
   "source": [
    "socialInstalls = data.loc[data['Category'] == 'SOCIAL']\n",
    "socialInstalls"
   ]
  },
  {
   "cell_type": "code",
   "execution_count": 925,
   "metadata": {},
   "outputs": [
    {
     "data": {
      "image/png": "[encoded data removed]",
      "text/plain": [
       "<Figure size 1440x720 with 1 Axes>"
      ]
     },
     "metadata": {},
     "output_type": "display_data"
    }
   ],
   "source": [
    "# SOCIAL VISUALIZATION OF NUMBER OF INSTALLS\n",
    "plots = sns.countplot(x=socialInstalls['converted_installs'], data=data)\n",
    "plt.xlabel('Number of Installs', size=15)\n",
    "plt.ylabel('Number of Apps', size=15)\n",
    "plt.title('Number of Social Installs', size=20)\n",
    "for bar in plots.patches: \n",
    "    plots.annotate(format(bar.get_height(), '.0f'),  \n",
    "                   (bar.get_x() + bar.get_width() / 2,  \n",
    "                    bar.get_height()), ha='center', va='center', \n",
    "                   size=15, xytext=(0, 8), \n",
    "                   textcoords='offset points') \n",
    "plt.show()"
   ]
  },
  {
   "cell_type": "code",
   "execution_count": 926,
   "metadata": {},
   "outputs": [
    {
     "data": {
      "text/html": [
       "<div>\n",
       "<style scoped>\n",
       "    .dataframe tbody tr th:only-of-type {\n",
       "        vertical-align: middle;\n",
       "    }\n",
       "\n",
       "    .dataframe tbody tr th {\n",
       "        vertical-align: top;\n",
       "    }\n",
       "\n",
       "    .dataframe thead th {\n",
       "        text-align: right;\n",
       "    }\n",
       "</style>\n",
       "<table border=\"1\" class=\"dataframe\">\n",
       "  <thead>\n",
       "    <tr style=\"text-align: right;\">\n",
       "      <th></th>\n",
       "      <th>App</th>\n",
       "      <th>Category</th>\n",
       "      <th>Reviews</th>\n",
       "      <th>Installs</th>\n",
       "      <th>converted_installs</th>\n",
       "      <th>converted_reviews</th>\n",
       "    </tr>\n",
       "  </thead>\n",
       "  <tbody>\n",
       "    <tr>\n",
       "      <th>3626</th>\n",
       "      <td>The Weather Channel: Rain Forecast &amp; Storm Alerts</td>\n",
       "      <td>WEATHER</td>\n",
       "      <td>1558437</td>\n",
       "      <td>50000000.0</td>\n",
       "      <td>1M</td>\n",
       "      <td>22.997k</td>\n",
       "    </tr>\n",
       "    <tr>\n",
       "      <th>3627</th>\n",
       "      <td>Weather forecast</td>\n",
       "      <td>WEATHER</td>\n",
       "      <td>159455</td>\n",
       "      <td>1000000.0</td>\n",
       "      <td>1M</td>\n",
       "      <td>22.998k</td>\n",
       "    </tr>\n",
       "    <tr>\n",
       "      <th>3628</th>\n",
       "      <td>AccuWeather: Daily Forecast &amp; Live Weather Rep...</td>\n",
       "      <td>WEATHER</td>\n",
       "      <td>2053404</td>\n",
       "      <td>50000000.0</td>\n",
       "      <td>1M</td>\n",
       "      <td>23.063k</td>\n",
       "    </tr>\n",
       "    <tr>\n",
       "      <th>3629</th>\n",
       "      <td>Live Weather Pro</td>\n",
       "      <td>WEATHER</td>\n",
       "      <td>892</td>\n",
       "      <td>10000.0</td>\n",
       "      <td>1M</td>\n",
       "      <td>23.666k</td>\n",
       "    </tr>\n",
       "    <tr>\n",
       "      <th>3630</th>\n",
       "      <td>Weather by WeatherBug: Forecast, Radar &amp; Alerts</td>\n",
       "      <td>WEATHER</td>\n",
       "      <td>981995</td>\n",
       "      <td>10000000.0</td>\n",
       "      <td>1M</td>\n",
       "      <td>24.349k</td>\n",
       "    </tr>\n",
       "    <tr>\n",
       "      <th>...</th>\n",
       "      <td>...</td>\n",
       "      <td>...</td>\n",
       "      <td>...</td>\n",
       "      <td>...</td>\n",
       "      <td>...</td>\n",
       "      <td>...</td>\n",
       "    </tr>\n",
       "    <tr>\n",
       "      <th>10612</th>\n",
       "      <td>Clearwater, FL - weather and more</td>\n",
       "      <td>WEATHER</td>\n",
       "      <td>0</td>\n",
       "      <td>10.0</td>\n",
       "      <td>500M</td>\n",
       "      <td>8.596M</td>\n",
       "    </tr>\n",
       "    <tr>\n",
       "      <th>10625</th>\n",
       "      <td>St. Petersburg, FL - weather and more</td>\n",
       "      <td>WEATHER</td>\n",
       "      <td>0</td>\n",
       "      <td>10.0</td>\n",
       "      <td>500M</td>\n",
       "      <td>8.606M</td>\n",
       "    </tr>\n",
       "    <tr>\n",
       "      <th>10627</th>\n",
       "      <td>WSVN • South Florida's Source for Weather</td>\n",
       "      <td>WEATHER</td>\n",
       "      <td>7</td>\n",
       "      <td>1000.0</td>\n",
       "      <td>500M</td>\n",
       "      <td>17M</td>\n",
       "    </tr>\n",
       "    <tr>\n",
       "      <th>10713</th>\n",
       "      <td>My Earthquake Alerts - US &amp; Worldwide Earthquakes</td>\n",
       "      <td>WEATHER</td>\n",
       "      <td>3471</td>\n",
       "      <td>100000.0</td>\n",
       "      <td>1B</td>\n",
       "      <td>17.015M</td>\n",
       "    </tr>\n",
       "    <tr>\n",
       "      <th>10832</th>\n",
       "      <td>FR Tides</td>\n",
       "      <td>WEATHER</td>\n",
       "      <td>1195</td>\n",
       "      <td>100000.0</td>\n",
       "      <td>1B</td>\n",
       "      <td>78.158M</td>\n",
       "    </tr>\n",
       "  </tbody>\n",
       "</table>\n",
       "<p>82 rows × 6 columns</p>\n",
       "</div>"
      ],
      "text/plain": [
       "                                                     App Category  Reviews  \\\n",
       "3626   The Weather Channel: Rain Forecast & Storm Alerts  WEATHER  1558437   \n",
       "3627                                    Weather forecast  WEATHER   159455   \n",
       "3628   AccuWeather: Daily Forecast & Live Weather Rep...  WEATHER  2053404   \n",
       "3629                                    Live Weather Pro  WEATHER      892   \n",
       "3630     Weather by WeatherBug: Forecast, Radar & Alerts  WEATHER   981995   \n",
       "...                                                  ...      ...      ...   \n",
       "10612                  Clearwater, FL - weather and more  WEATHER        0   \n",
       "10625              St. Petersburg, FL - weather and more  WEATHER        0   \n",
       "10627          WSVN • South Florida's Source for Weather  WEATHER        7   \n",
       "10713  My Earthquake Alerts - US & Worldwide Earthquakes  WEATHER     3471   \n",
       "10832                                           FR Tides  WEATHER     1195   \n",
       "\n",
       "         Installs converted_installs converted_reviews  \n",
       "3626   50000000.0                 1M           22.997k  \n",
       "3627    1000000.0                 1M           22.998k  \n",
       "3628   50000000.0                 1M           23.063k  \n",
       "3629      10000.0                 1M           23.666k  \n",
       "3630   10000000.0                 1M           24.349k  \n",
       "...           ...                ...               ...  \n",
       "10612        10.0               500M            8.596M  \n",
       "10625        10.0               500M            8.606M  \n",
       "10627      1000.0               500M               17M  \n",
       "10713    100000.0                 1B           17.015M  \n",
       "10832    100000.0                 1B           78.158M  \n",
       "\n",
       "[82 rows x 6 columns]"
      ]
     },
     "execution_count": 926,
     "metadata": {},
     "output_type": "execute_result"
    }
   ],
   "source": [
    "weatherInstalls = data.loc[data['Category'] == 'WEATHER']\n",
    "weatherInstalls"
   ]
  },
  {
   "cell_type": "code",
   "execution_count": 927,
   "metadata": {},
   "outputs": [
    {
     "data": {
      "image/png": "[encoded data removed]",
      "text/plain": [
       "<Figure size 1440x720 with 1 Axes>"
      ]
     },
     "metadata": {},
     "output_type": "display_data"
    }
   ],
   "source": [
    "# WEATHER VISUALIZATION OF NUMBER OF INSTALLS\n",
    "plots = sns.countplot(x=weatherInstalls['converted_installs'], data=data)\n",
    "plt.xlabel('Number of Installs', size=15)\n",
    "plt.ylabel('Number of Apps', size=15)\n",
    "plt.title('Number of Weather Installs', size=20)\n",
    "for bar in plots.patches: \n",
    "    plots.annotate(format(bar.get_height(), '.0f'),  \n",
    "                   (bar.get_x() + bar.get_width() / 2,  \n",
    "                    bar.get_height()), ha='center', va='center', \n",
    "                   size=15, xytext=(0, 8), \n",
    "                   textcoords='offset points') \n",
    "plt.show()"
   ]
  },
  {
   "cell_type": "code",
   "execution_count": 932,
   "metadata": {},
   "outputs": [
    {
     "data": {
      "text/plain": [
       "10M     113\n",
       "1M      111\n",
       "100k     66\n",
       "5M       55\n",
       "10k      34\n",
       "500k     31\n",
       "1k       30\n",
       "100M     27\n",
       "50M      25\n",
       "5k       18\n",
       "50k      18\n",
       "100      17\n",
       "10       11\n",
       "500       9\n",
       "1B        9\n",
       "500M      6\n",
       "50        4\n",
       "0         3\n",
       "1         2\n",
       "5         2\n",
       "Name: converted_installs, dtype: int64"
      ]
     },
     "execution_count": 932,
     "metadata": {},
     "output_type": "execute_result"
    }
   ],
   "source": [
    "count = data['converted_installs'].value_counts()\n",
    "count"
   ]
  },
  {
   "cell_type": "code",
   "execution_count": 949,
   "metadata": {},
   "outputs": [
    {
     "data": {
      "image/png": "[encoded data removed]",
      "text/plain": [
       "<Figure size 1440x720 with 1 Axes>"
      ]
     },
     "metadata": {},
     "output_type": "display_data"
    },
    {
     "data": {
      "text/plain": [
       "<Figure size 1440x1080 with 0 Axes>"
      ]
     },
     "metadata": {},
     "output_type": "display_data"
    }
   ],
   "source": [
    "plots = sns.countplot(x='converted_installs', hue='Category', data=data)\n",
    "\n",
    "plt.title('Number of Installs Per Category', size=20)\n",
    "plt.xlabel('Number of Installs', size=15)\n",
    "plt.ylabel('Number of Apps', size=15)\n",
    "plt.legend(loc=1, prop={'size': 16})\n",
    "plt.figure(figsize=[20,15])\n",
    "for bar in plots.patches: \n",
    "    plots.annotate(format(bar.get_height(), '.0f'),  \n",
    "                   (bar.get_x() + bar.get_width() / 2,  \n",
    "                    bar.get_height()), ha='center', va='center', \n",
    "                   size=15, xytext=(0, 8), \n",
    "                   textcoords='offset points') \n",
    "plt.show()"
   ]
  },
  {
   "cell_type": "code",
   "execution_count": null,
   "metadata": {},
   "outputs": [],
   "source": []
  }
 ],
 "metadata": {
  "kernelspec": {
   "display_name": "Python 3",
   "language": "python",
   "name": "python3"
  },
  "language_info": {
   "codemirror_mode": {
    "name": "ipython",
    "version": 3
   },
   "file_extension": ".py",
   "mimetype": "text/x-python",
   "name": "python",
   "nbconvert_exporter": "python",
   "pygments_lexer": "ipython3",
   "version": "3.8.5"
  }
 },
 "nbformat": 4,
 "nbformat_minor": 4
}
