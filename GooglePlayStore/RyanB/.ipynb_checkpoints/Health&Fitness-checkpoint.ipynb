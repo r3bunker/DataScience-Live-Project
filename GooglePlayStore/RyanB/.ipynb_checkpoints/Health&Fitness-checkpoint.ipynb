{
 "cells": [
  {
   "cell_type": "code",
   "execution_count": 2,
   "metadata": {},
   "outputs": [],
   "source": [
    "import pandas as pd\n",
    "import numpy as np\n",
    "import seaborn as sns\n",
    "import matplotlib.pyplot as plt\n",
    "%matplotlib inline"
   ]
  },
  {
   "cell_type": "code",
   "execution_count": 3,
   "metadata": {},
   "outputs": [],
   "source": [
    "data = pd.read_csv('googleplaystoremaster.csv', thousands=',')"
   ]
  },
  {
   "cell_type": "code",
   "execution_count": 4,
   "metadata": {},
   "outputs": [
    {
     "data": {
      "text/html": [
       "<div>\n",
       "<style scoped>\n",
       "    .dataframe tbody tr th:only-of-type {\n",
       "        vertical-align: middle;\n",
       "    }\n",
       "\n",
       "    .dataframe tbody tr th {\n",
       "        vertical-align: top;\n",
       "    }\n",
       "\n",
       "    .dataframe thead th {\n",
       "        text-align: right;\n",
       "    }\n",
       "</style>\n",
       "<table border=\"1\" class=\"dataframe\">\n",
       "  <thead>\n",
       "    <tr style=\"text-align: right;\">\n",
       "      <th></th>\n",
       "      <th>App</th>\n",
       "      <th>Category</th>\n",
       "      <th>Rating</th>\n",
       "      <th>Reviews</th>\n",
       "      <th>Size</th>\n",
       "      <th>Installs</th>\n",
       "      <th>Type</th>\n",
       "      <th>Price</th>\n",
       "      <th>Content Rating</th>\n",
       "      <th>Genres</th>\n",
       "      <th>Last Updated</th>\n",
       "      <th>Current Ver</th>\n",
       "      <th>Android Ver</th>\n",
       "    </tr>\n",
       "  </thead>\n",
       "  <tbody>\n",
       "    <tr>\n",
       "      <th>0</th>\n",
       "      <td>Photo Editor &amp; Candy Camera &amp; Grid &amp; ScrapBook</td>\n",
       "      <td>ART_AND_DESIGN</td>\n",
       "      <td>4.1</td>\n",
       "      <td>159</td>\n",
       "      <td>19M</td>\n",
       "      <td>10,000+</td>\n",
       "      <td>Free</td>\n",
       "      <td>0</td>\n",
       "      <td>Everyone</td>\n",
       "      <td>Art &amp; Design</td>\n",
       "      <td>January 7, 2018</td>\n",
       "      <td>1.0.0</td>\n",
       "      <td>4.0.3 and up</td>\n",
       "    </tr>\n",
       "    <tr>\n",
       "      <th>1</th>\n",
       "      <td>Coloring book moana</td>\n",
       "      <td>ART_AND_DESIGN</td>\n",
       "      <td>3.9</td>\n",
       "      <td>967</td>\n",
       "      <td>14M</td>\n",
       "      <td>500,000+</td>\n",
       "      <td>Free</td>\n",
       "      <td>0</td>\n",
       "      <td>Everyone</td>\n",
       "      <td>Art &amp; Design;Pretend Play</td>\n",
       "      <td>January 15, 2018</td>\n",
       "      <td>2.0.0</td>\n",
       "      <td>4.0.3 and up</td>\n",
       "    </tr>\n",
       "    <tr>\n",
       "      <th>2</th>\n",
       "      <td>U Launcher Lite – FREE Live Cool Themes, Hide ...</td>\n",
       "      <td>ART_AND_DESIGN</td>\n",
       "      <td>4.7</td>\n",
       "      <td>87510</td>\n",
       "      <td>8.7M</td>\n",
       "      <td>5,000,000+</td>\n",
       "      <td>Free</td>\n",
       "      <td>0</td>\n",
       "      <td>Everyone</td>\n",
       "      <td>Art &amp; Design</td>\n",
       "      <td>August 1, 2018</td>\n",
       "      <td>1.2.4</td>\n",
       "      <td>4.0.3 and up</td>\n",
       "    </tr>\n",
       "    <tr>\n",
       "      <th>3</th>\n",
       "      <td>Sketch - Draw &amp; Paint</td>\n",
       "      <td>ART_AND_DESIGN</td>\n",
       "      <td>4.5</td>\n",
       "      <td>215644</td>\n",
       "      <td>25M</td>\n",
       "      <td>50,000,000+</td>\n",
       "      <td>Free</td>\n",
       "      <td>0</td>\n",
       "      <td>Teen</td>\n",
       "      <td>Art &amp; Design</td>\n",
       "      <td>June 8, 2018</td>\n",
       "      <td>Varies with device</td>\n",
       "      <td>4.2 and up</td>\n",
       "    </tr>\n",
       "    <tr>\n",
       "      <th>4</th>\n",
       "      <td>Pixel Draw - Number Art Coloring Book</td>\n",
       "      <td>ART_AND_DESIGN</td>\n",
       "      <td>4.3</td>\n",
       "      <td>967</td>\n",
       "      <td>2.8M</td>\n",
       "      <td>100,000+</td>\n",
       "      <td>Free</td>\n",
       "      <td>0</td>\n",
       "      <td>Everyone</td>\n",
       "      <td>Art &amp; Design;Creativity</td>\n",
       "      <td>June 20, 2018</td>\n",
       "      <td>1.1</td>\n",
       "      <td>4.4 and up</td>\n",
       "    </tr>\n",
       "  </tbody>\n",
       "</table>\n",
       "</div>"
      ],
      "text/plain": [
       "                                                 App        Category  Rating  \\\n",
       "0     Photo Editor & Candy Camera & Grid & ScrapBook  ART_AND_DESIGN     4.1   \n",
       "1                                Coloring book moana  ART_AND_DESIGN     3.9   \n",
       "2  U Launcher Lite – FREE Live Cool Themes, Hide ...  ART_AND_DESIGN     4.7   \n",
       "3                              Sketch - Draw & Paint  ART_AND_DESIGN     4.5   \n",
       "4              Pixel Draw - Number Art Coloring Book  ART_AND_DESIGN     4.3   \n",
       "\n",
       "  Reviews  Size     Installs  Type Price Content Rating  \\\n",
       "0     159   19M      10,000+  Free     0       Everyone   \n",
       "1     967   14M     500,000+  Free     0       Everyone   \n",
       "2   87510  8.7M   5,000,000+  Free     0       Everyone   \n",
       "3  215644   25M  50,000,000+  Free     0           Teen   \n",
       "4     967  2.8M     100,000+  Free     0       Everyone   \n",
       "\n",
       "                      Genres      Last Updated         Current Ver  \\\n",
       "0               Art & Design   January 7, 2018               1.0.0   \n",
       "1  Art & Design;Pretend Play  January 15, 2018               2.0.0   \n",
       "2               Art & Design    August 1, 2018               1.2.4   \n",
       "3               Art & Design      June 8, 2018  Varies with device   \n",
       "4    Art & Design;Creativity     June 20, 2018                 1.1   \n",
       "\n",
       "    Android Ver  \n",
       "0  4.0.3 and up  \n",
       "1  4.0.3 and up  \n",
       "2  4.0.3 and up  \n",
       "3    4.2 and up  \n",
       "4    4.4 and up  "
      ]
     },
     "execution_count": 4,
     "metadata": {},
     "output_type": "execute_result"
    }
   ],
   "source": [
    "data.head()"
   ]
  },
  {
   "cell_type": "code",
   "execution_count": 5,
   "metadata": {},
   "outputs": [
    {
     "data": {
      "text/html": [
       "<div>\n",
       "<style scoped>\n",
       "    .dataframe tbody tr th:only-of-type {\n",
       "        vertical-align: middle;\n",
       "    }\n",
       "\n",
       "    .dataframe tbody tr th {\n",
       "        vertical-align: top;\n",
       "    }\n",
       "\n",
       "    .dataframe thead th {\n",
       "        text-align: right;\n",
       "    }\n",
       "</style>\n",
       "<table border=\"1\" class=\"dataframe\">\n",
       "  <thead>\n",
       "    <tr style=\"text-align: right;\">\n",
       "      <th></th>\n",
       "      <th>App</th>\n",
       "      <th>Category</th>\n",
       "      <th>Rating</th>\n",
       "      <th>Reviews</th>\n",
       "      <th>Size</th>\n",
       "      <th>Installs</th>\n",
       "      <th>Type</th>\n",
       "      <th>Price</th>\n",
       "      <th>Content Rating</th>\n",
       "      <th>Genres</th>\n",
       "      <th>Last Updated</th>\n",
       "      <th>Current Ver</th>\n",
       "      <th>Android Ver</th>\n",
       "    </tr>\n",
       "  </thead>\n",
       "  <tbody>\n",
       "    <tr>\n",
       "      <th>10472</th>\n",
       "      <td>Life Made WI-Fi Touchscreen Photo Frame</td>\n",
       "      <td>1.9</td>\n",
       "      <td>19.0</td>\n",
       "      <td>3.0M</td>\n",
       "      <td>1,000+</td>\n",
       "      <td>Free</td>\n",
       "      <td>0</td>\n",
       "      <td>Everyone</td>\n",
       "      <td>NaN</td>\n",
       "      <td>February 11, 2018</td>\n",
       "      <td>1.0.19</td>\n",
       "      <td>4.0 and up</td>\n",
       "      <td>NaN</td>\n",
       "    </tr>\n",
       "    <tr>\n",
       "      <th>420</th>\n",
       "      <td>UC Browser - Fast Download Private &amp; Secure</td>\n",
       "      <td>COMMUNICATION</td>\n",
       "      <td>4.5</td>\n",
       "      <td>17714850</td>\n",
       "      <td>40M</td>\n",
       "      <td>500,000,000+</td>\n",
       "      <td>Free</td>\n",
       "      <td>0</td>\n",
       "      <td>Teen</td>\n",
       "      <td>Communication</td>\n",
       "      <td>August 2, 2018</td>\n",
       "      <td>12.8.5.1121</td>\n",
       "      <td>4.0 and up</td>\n",
       "    </tr>\n",
       "    <tr>\n",
       "      <th>474</th>\n",
       "      <td>LINE: Free Calls &amp; Messages</td>\n",
       "      <td>COMMUNICATION</td>\n",
       "      <td>4.2</td>\n",
       "      <td>10790289</td>\n",
       "      <td>Varies with device</td>\n",
       "      <td>500,000,000+</td>\n",
       "      <td>Free</td>\n",
       "      <td>0</td>\n",
       "      <td>Everyone</td>\n",
       "      <td>Communication</td>\n",
       "      <td>July 26, 2018</td>\n",
       "      <td>Varies with device</td>\n",
       "      <td>Varies with device</td>\n",
       "    </tr>\n",
       "    <tr>\n",
       "      <th>3767</th>\n",
       "      <td>Flipboard: News For Our Time</td>\n",
       "      <td>NEWS_AND_MAGAZINES</td>\n",
       "      <td>4.4</td>\n",
       "      <td>1284017</td>\n",
       "      <td>Varies with device</td>\n",
       "      <td>500,000,000+</td>\n",
       "      <td>Free</td>\n",
       "      <td>0</td>\n",
       "      <td>Everyone 10+</td>\n",
       "      <td>News &amp; Magazines</td>\n",
       "      <td>August 3, 2018</td>\n",
       "      <td>Varies with device</td>\n",
       "      <td>Varies with device</td>\n",
       "    </tr>\n",
       "    <tr>\n",
       "      <th>3574</th>\n",
       "      <td>Cloud Print</td>\n",
       "      <td>PRODUCTIVITY</td>\n",
       "      <td>4.1</td>\n",
       "      <td>282460</td>\n",
       "      <td>Varies with device</td>\n",
       "      <td>500,000,000+</td>\n",
       "      <td>Free</td>\n",
       "      <td>0</td>\n",
       "      <td>Everyone</td>\n",
       "      <td>Productivity</td>\n",
       "      <td>May 23, 2018</td>\n",
       "      <td>Varies with device</td>\n",
       "      <td>Varies with device</td>\n",
       "    </tr>\n",
       "    <tr>\n",
       "      <th>...</th>\n",
       "      <td>...</td>\n",
       "      <td>...</td>\n",
       "      <td>...</td>\n",
       "      <td>...</td>\n",
       "      <td>...</td>\n",
       "      <td>...</td>\n",
       "      <td>...</td>\n",
       "      <td>...</td>\n",
       "      <td>...</td>\n",
       "      <td>...</td>\n",
       "      <td>...</td>\n",
       "      <td>...</td>\n",
       "      <td>...</td>\n",
       "    </tr>\n",
       "    <tr>\n",
       "      <th>8871</th>\n",
       "      <td>Test Application DT 02</td>\n",
       "      <td>ART_AND_DESIGN</td>\n",
       "      <td>NaN</td>\n",
       "      <td>0</td>\n",
       "      <td>1.2M</td>\n",
       "      <td>0+</td>\n",
       "      <td>Free</td>\n",
       "      <td>0</td>\n",
       "      <td>Everyone</td>\n",
       "      <td>Art &amp; Design</td>\n",
       "      <td>March 14, 2017</td>\n",
       "      <td>4.0</td>\n",
       "      <td>4.2 and up</td>\n",
       "    </tr>\n",
       "    <tr>\n",
       "      <th>9905</th>\n",
       "      <td>Eu sou Rico</td>\n",
       "      <td>FINANCE</td>\n",
       "      <td>NaN</td>\n",
       "      <td>0</td>\n",
       "      <td>2.6M</td>\n",
       "      <td>0+</td>\n",
       "      <td>Paid</td>\n",
       "      <td>$30.99</td>\n",
       "      <td>Everyone</td>\n",
       "      <td>Finance</td>\n",
       "      <td>January 9, 2018</td>\n",
       "      <td>1.0</td>\n",
       "      <td>4.0 and up</td>\n",
       "    </tr>\n",
       "    <tr>\n",
       "      <th>9934</th>\n",
       "      <td>I'm Rich/Eu sou Rico/أنا غني/我很有錢</td>\n",
       "      <td>LIFESTYLE</td>\n",
       "      <td>NaN</td>\n",
       "      <td>0</td>\n",
       "      <td>40M</td>\n",
       "      <td>0+</td>\n",
       "      <td>Paid</td>\n",
       "      <td>$399.99</td>\n",
       "      <td>Everyone</td>\n",
       "      <td>Lifestyle</td>\n",
       "      <td>December 1, 2017</td>\n",
       "      <td>MONEY</td>\n",
       "      <td>4.1 and up</td>\n",
       "    </tr>\n",
       "    <tr>\n",
       "      <th>7434</th>\n",
       "      <td>Pekalongan CJ</td>\n",
       "      <td>SOCIAL</td>\n",
       "      <td>NaN</td>\n",
       "      <td>0</td>\n",
       "      <td>5.9M</td>\n",
       "      <td>0+</td>\n",
       "      <td>Free</td>\n",
       "      <td>0</td>\n",
       "      <td>Teen</td>\n",
       "      <td>Social</td>\n",
       "      <td>July 21, 2018</td>\n",
       "      <td>0.0.1</td>\n",
       "      <td>4.4 and up</td>\n",
       "    </tr>\n",
       "    <tr>\n",
       "      <th>9148</th>\n",
       "      <td>Command &amp; Conquer: Rivals</td>\n",
       "      <td>FAMILY</td>\n",
       "      <td>NaN</td>\n",
       "      <td>0</td>\n",
       "      <td>Varies with device</td>\n",
       "      <td>0</td>\n",
       "      <td>NaN</td>\n",
       "      <td>0</td>\n",
       "      <td>Everyone 10+</td>\n",
       "      <td>Strategy</td>\n",
       "      <td>June 28, 2018</td>\n",
       "      <td>Varies with device</td>\n",
       "      <td>Varies with device</td>\n",
       "    </tr>\n",
       "  </tbody>\n",
       "</table>\n",
       "<p>10841 rows × 13 columns</p>\n",
       "</div>"
      ],
      "text/plain": [
       "                                               App            Category  \\\n",
       "10472      Life Made WI-Fi Touchscreen Photo Frame                 1.9   \n",
       "420    UC Browser - Fast Download Private & Secure       COMMUNICATION   \n",
       "474                    LINE: Free Calls & Messages       COMMUNICATION   \n",
       "3767                  Flipboard: News For Our Time  NEWS_AND_MAGAZINES   \n",
       "3574                                   Cloud Print        PRODUCTIVITY   \n",
       "...                                            ...                 ...   \n",
       "8871                        Test Application DT 02      ART_AND_DESIGN   \n",
       "9905                                   Eu sou Rico             FINANCE   \n",
       "9934             I'm Rich/Eu sou Rico/أنا غني/我很有錢           LIFESTYLE   \n",
       "7434                                 Pekalongan CJ              SOCIAL   \n",
       "9148                     Command & Conquer: Rivals              FAMILY   \n",
       "\n",
       "       Rating   Reviews                Size      Installs  Type     Price  \\\n",
       "10472    19.0      3.0M              1,000+          Free     0  Everyone   \n",
       "420       4.5  17714850                 40M  500,000,000+  Free         0   \n",
       "474       4.2  10790289  Varies with device  500,000,000+  Free         0   \n",
       "3767      4.4   1284017  Varies with device  500,000,000+  Free         0   \n",
       "3574      4.1    282460  Varies with device  500,000,000+  Free         0   \n",
       "...       ...       ...                 ...           ...   ...       ...   \n",
       "8871      NaN         0                1.2M            0+  Free         0   \n",
       "9905      NaN         0                2.6M            0+  Paid    $30.99   \n",
       "9934      NaN         0                 40M            0+  Paid   $399.99   \n",
       "7434      NaN         0                5.9M            0+  Free         0   \n",
       "9148      NaN         0  Varies with device             0   NaN         0   \n",
       "\n",
       "      Content Rating             Genres      Last Updated         Current Ver  \\\n",
       "10472            NaN  February 11, 2018            1.0.19          4.0 and up   \n",
       "420             Teen      Communication    August 2, 2018         12.8.5.1121   \n",
       "474         Everyone      Communication     July 26, 2018  Varies with device   \n",
       "3767    Everyone 10+   News & Magazines    August 3, 2018  Varies with device   \n",
       "3574        Everyone       Productivity      May 23, 2018  Varies with device   \n",
       "...              ...                ...               ...                 ...   \n",
       "8871        Everyone       Art & Design    March 14, 2017                 4.0   \n",
       "9905        Everyone            Finance   January 9, 2018                 1.0   \n",
       "9934        Everyone          Lifestyle  December 1, 2017               MONEY   \n",
       "7434            Teen             Social     July 21, 2018               0.0.1   \n",
       "9148    Everyone 10+           Strategy     June 28, 2018  Varies with device   \n",
       "\n",
       "              Android Ver  \n",
       "10472                 NaN  \n",
       "420            4.0 and up  \n",
       "474    Varies with device  \n",
       "3767   Varies with device  \n",
       "3574   Varies with device  \n",
       "...                   ...  \n",
       "8871           4.2 and up  \n",
       "9905           4.0 and up  \n",
       "9934           4.1 and up  \n",
       "7434           4.4 and up  \n",
       "9148   Varies with device  \n",
       "\n",
       "[10841 rows x 13 columns]"
      ]
     },
     "execution_count": 5,
     "metadata": {},
     "output_type": "execute_result"
    }
   ],
   "source": [
    "data.sort_values(by=['Installs'], ascending=False)"
   ]
  },
  {
   "cell_type": "code",
   "execution_count": 6,
   "metadata": {},
   "outputs": [
    {
     "name": "stdout",
     "output_type": "stream",
     "text": [
      "App\n",
      "Category\n",
      "Rating\n",
      "Reviews\n",
      "Size\n",
      "Installs\n",
      "Type\n",
      "Price\n",
      "Content Rating\n",
      "Genres\n",
      "Last Updated\n",
      "Current Ver\n",
      "Android Ver\n"
     ]
    }
   ],
   "source": [
    "# list of columns\n",
    "for col in data.columns:\n",
    "    print(col)"
   ]
  },
  {
   "cell_type": "code",
   "execution_count": 7,
   "metadata": {},
   "outputs": [],
   "source": [
    "# Remove unimportant columns\n",
    "to_drop = ['Rating',\n",
    "          'Reviews',\n",
    "          'Size',\n",
    "          'Type',\n",
    "          'Content Rating',\n",
    "          'Genres',\n",
    "          'Last Updated',\n",
    "          'Current Ver',\n",
    "          'Android Ver']\n",
    "\n",
    "data.drop(to_drop, inplace=True, axis=1)"
   ]
  },
  {
   "cell_type": "code",
   "execution_count": 8,
   "metadata": {},
   "outputs": [
    {
     "data": {
      "text/html": [
       "<div>\n",
       "<style scoped>\n",
       "    .dataframe tbody tr th:only-of-type {\n",
       "        vertical-align: middle;\n",
       "    }\n",
       "\n",
       "    .dataframe tbody tr th {\n",
       "        vertical-align: top;\n",
       "    }\n",
       "\n",
       "    .dataframe thead th {\n",
       "        text-align: right;\n",
       "    }\n",
       "</style>\n",
       "<table border=\"1\" class=\"dataframe\">\n",
       "  <thead>\n",
       "    <tr style=\"text-align: right;\">\n",
       "      <th></th>\n",
       "      <th>App</th>\n",
       "      <th>Category</th>\n",
       "      <th>Installs</th>\n",
       "      <th>Price</th>\n",
       "    </tr>\n",
       "  </thead>\n",
       "  <tbody>\n",
       "    <tr>\n",
       "      <th>0</th>\n",
       "      <td>Photo Editor &amp; Candy Camera &amp; Grid &amp; ScrapBook</td>\n",
       "      <td>ART_AND_DESIGN</td>\n",
       "      <td>10,000+</td>\n",
       "      <td>0</td>\n",
       "    </tr>\n",
       "    <tr>\n",
       "      <th>1</th>\n",
       "      <td>Coloring book moana</td>\n",
       "      <td>ART_AND_DESIGN</td>\n",
       "      <td>500,000+</td>\n",
       "      <td>0</td>\n",
       "    </tr>\n",
       "    <tr>\n",
       "      <th>2</th>\n",
       "      <td>U Launcher Lite – FREE Live Cool Themes, Hide ...</td>\n",
       "      <td>ART_AND_DESIGN</td>\n",
       "      <td>5,000,000+</td>\n",
       "      <td>0</td>\n",
       "    </tr>\n",
       "    <tr>\n",
       "      <th>3</th>\n",
       "      <td>Sketch - Draw &amp; Paint</td>\n",
       "      <td>ART_AND_DESIGN</td>\n",
       "      <td>50,000,000+</td>\n",
       "      <td>0</td>\n",
       "    </tr>\n",
       "    <tr>\n",
       "      <th>4</th>\n",
       "      <td>Pixel Draw - Number Art Coloring Book</td>\n",
       "      <td>ART_AND_DESIGN</td>\n",
       "      <td>100,000+</td>\n",
       "      <td>0</td>\n",
       "    </tr>\n",
       "  </tbody>\n",
       "</table>\n",
       "</div>"
      ],
      "text/plain": [
       "                                                 App        Category  \\\n",
       "0     Photo Editor & Candy Camera & Grid & ScrapBook  ART_AND_DESIGN   \n",
       "1                                Coloring book moana  ART_AND_DESIGN   \n",
       "2  U Launcher Lite – FREE Live Cool Themes, Hide ...  ART_AND_DESIGN   \n",
       "3                              Sketch - Draw & Paint  ART_AND_DESIGN   \n",
       "4              Pixel Draw - Number Art Coloring Book  ART_AND_DESIGN   \n",
       "\n",
       "      Installs Price  \n",
       "0      10,000+     0  \n",
       "1     500,000+     0  \n",
       "2   5,000,000+     0  \n",
       "3  50,000,000+     0  \n",
       "4     100,000+     0  "
      ]
     },
     "execution_count": 8,
     "metadata": {},
     "output_type": "execute_result"
    }
   ],
   "source": [
    "data.head()"
   ]
  },
  {
   "cell_type": "code",
   "execution_count": 9,
   "metadata": {},
   "outputs": [
    {
     "data": {
      "text/plain": [
       "App         object\n",
       "Category    object\n",
       "Installs    object\n",
       "Price       object\n",
       "dtype: object"
      ]
     },
     "execution_count": 9,
     "metadata": {},
     "output_type": "execute_result"
    }
   ],
   "source": [
    "data.dtypes"
   ]
  },
  {
   "cell_type": "code",
   "execution_count": 10,
   "metadata": {},
   "outputs": [
    {
     "data": {
      "text/plain": [
       "array(['ART_AND_DESIGN', 'AUTO_AND_VEHICLES', 'BEAUTY',\n",
       "       'BOOKS_AND_REFERENCE', 'BUSINESS', 'COMICS', 'COMMUNICATION',\n",
       "       'DATING', 'EDUCATION', 'ENTERTAINMENT', 'EVENTS', 'FINANCE',\n",
       "       'FOOD_AND_DRINK', 'HEALTH_AND_FITNESS', 'HOUSE_AND_HOME',\n",
       "       'LIBRARIES_AND_DEMO', 'LIFESTYLE', 'GAME', 'FAMILY', 'MEDICAL',\n",
       "       'SOCIAL', 'SHOPPING', 'PHOTOGRAPHY', 'SPORTS', 'TRAVEL_AND_LOCAL',\n",
       "       'TOOLS', 'PERSONALIZATION', 'PRODUCTIVITY', 'PARENTING', 'WEATHER',\n",
       "       'VIDEO_PLAYERS', 'NEWS_AND_MAGAZINES', 'MAPS_AND_NAVIGATION',\n",
       "       '1.9'], dtype=object)"
      ]
     },
     "execution_count": 10,
     "metadata": {},
     "output_type": "execute_result"
    }
   ],
   "source": [
    "data.Category.unique()\n",
    "#There is a category \"1.9\", did you look at that row to check what that category was?"
   ]
  },
  {
   "cell_type": "code",
   "execution_count": 11,
   "metadata": {},
   "outputs": [
    {
     "data": {
      "text/plain": [
       "App         1\n",
       "Category    1\n",
       "Installs    1\n",
       "Price       1\n",
       "dtype: int64"
      ]
     },
     "execution_count": 11,
     "metadata": {},
     "output_type": "execute_result"
    }
   ],
   "source": [
    "data.loc[data['Category'] == '1.9'].count()"
   ]
  },
  {
   "cell_type": "code",
   "execution_count": 12,
   "metadata": {},
   "outputs": [],
   "source": [
    "health = data[data['Category'] == 'HEALTH_AND_FITNESS']\n",
    "health.reset_index(inplace=True)"
   ]
  },
  {
   "cell_type": "code",
   "execution_count": 13,
   "metadata": {},
   "outputs": [
    {
     "data": {
      "text/html": [
       "<div>\n",
       "<style scoped>\n",
       "    .dataframe tbody tr th:only-of-type {\n",
       "        vertical-align: middle;\n",
       "    }\n",
       "\n",
       "    .dataframe tbody tr th {\n",
       "        vertical-align: top;\n",
       "    }\n",
       "\n",
       "    .dataframe thead th {\n",
       "        text-align: right;\n",
       "    }\n",
       "</style>\n",
       "<table border=\"1\" class=\"dataframe\">\n",
       "  <thead>\n",
       "    <tr style=\"text-align: right;\">\n",
       "      <th></th>\n",
       "      <th>index</th>\n",
       "      <th>App</th>\n",
       "      <th>Category</th>\n",
       "      <th>Installs</th>\n",
       "      <th>Price</th>\n",
       "    </tr>\n",
       "  </thead>\n",
       "  <tbody>\n",
       "    <tr>\n",
       "      <th>0</th>\n",
       "      <td>1256</td>\n",
       "      <td>Home Workout - No Equipment</td>\n",
       "      <td>HEALTH_AND_FITNESS</td>\n",
       "      <td>10,000,000+</td>\n",
       "      <td>0</td>\n",
       "    </tr>\n",
       "    <tr>\n",
       "      <th>1</th>\n",
       "      <td>1257</td>\n",
       "      <td>Step Counter - Calorie Counter</td>\n",
       "      <td>HEALTH_AND_FITNESS</td>\n",
       "      <td>500,000+</td>\n",
       "      <td>0</td>\n",
       "    </tr>\n",
       "    <tr>\n",
       "      <th>2</th>\n",
       "      <td>1258</td>\n",
       "      <td>Lose Belly Fat in 30 Days - Flat Stomach</td>\n",
       "      <td>HEALTH_AND_FITNESS</td>\n",
       "      <td>5,000,000+</td>\n",
       "      <td>0</td>\n",
       "    </tr>\n",
       "    <tr>\n",
       "      <th>3</th>\n",
       "      <td>1259</td>\n",
       "      <td>Pedometer - Step Counter Free &amp; Calorie Burner</td>\n",
       "      <td>HEALTH_AND_FITNESS</td>\n",
       "      <td>1,000,000+</td>\n",
       "      <td>0</td>\n",
       "    </tr>\n",
       "    <tr>\n",
       "      <th>4</th>\n",
       "      <td>1260</td>\n",
       "      <td>Six Pack in 30 Days - Abs Workout</td>\n",
       "      <td>HEALTH_AND_FITNESS</td>\n",
       "      <td>10,000,000+</td>\n",
       "      <td>0</td>\n",
       "    </tr>\n",
       "  </tbody>\n",
       "</table>\n",
       "</div>"
      ],
      "text/plain": [
       "   index                                             App            Category  \\\n",
       "0   1256                     Home Workout - No Equipment  HEALTH_AND_FITNESS   \n",
       "1   1257                  Step Counter - Calorie Counter  HEALTH_AND_FITNESS   \n",
       "2   1258        Lose Belly Fat in 30 Days - Flat Stomach  HEALTH_AND_FITNESS   \n",
       "3   1259  Pedometer - Step Counter Free & Calorie Burner  HEALTH_AND_FITNESS   \n",
       "4   1260               Six Pack in 30 Days - Abs Workout  HEALTH_AND_FITNESS   \n",
       "\n",
       "      Installs Price  \n",
       "0  10,000,000+     0  \n",
       "1     500,000+     0  \n",
       "2   5,000,000+     0  \n",
       "3   1,000,000+     0  \n",
       "4  10,000,000+     0  "
      ]
     },
     "execution_count": 13,
     "metadata": {},
     "output_type": "execute_result"
    }
   ],
   "source": [
    "health.head()"
   ]
  },
  {
   "cell_type": "code",
   "execution_count": 14,
   "metadata": {},
   "outputs": [
    {
     "data": {
      "text/html": [
       "<div>\n",
       "<style scoped>\n",
       "    .dataframe tbody tr th:only-of-type {\n",
       "        vertical-align: middle;\n",
       "    }\n",
       "\n",
       "    .dataframe tbody tr th {\n",
       "        vertical-align: top;\n",
       "    }\n",
       "\n",
       "    .dataframe thead th {\n",
       "        text-align: right;\n",
       "    }\n",
       "</style>\n",
       "<table border=\"1\" class=\"dataframe\">\n",
       "  <thead>\n",
       "    <tr style=\"text-align: right;\">\n",
       "      <th></th>\n",
       "      <th>App</th>\n",
       "      <th>Category</th>\n",
       "      <th>Installs</th>\n",
       "      <th>Price</th>\n",
       "    </tr>\n",
       "  </thead>\n",
       "  <tbody>\n",
       "    <tr>\n",
       "      <th>10472</th>\n",
       "      <td>Life Made WI-Fi Touchscreen Photo Frame</td>\n",
       "      <td>1.9</td>\n",
       "      <td>Free</td>\n",
       "      <td>Everyone</td>\n",
       "    </tr>\n",
       "    <tr>\n",
       "      <th>420</th>\n",
       "      <td>UC Browser - Fast Download Private &amp; Secure</td>\n",
       "      <td>COMMUNICATION</td>\n",
       "      <td>500,000,000+</td>\n",
       "      <td>0</td>\n",
       "    </tr>\n",
       "    <tr>\n",
       "      <th>474</th>\n",
       "      <td>LINE: Free Calls &amp; Messages</td>\n",
       "      <td>COMMUNICATION</td>\n",
       "      <td>500,000,000+</td>\n",
       "      <td>0</td>\n",
       "    </tr>\n",
       "    <tr>\n",
       "      <th>3767</th>\n",
       "      <td>Flipboard: News For Our Time</td>\n",
       "      <td>NEWS_AND_MAGAZINES</td>\n",
       "      <td>500,000,000+</td>\n",
       "      <td>0</td>\n",
       "    </tr>\n",
       "    <tr>\n",
       "      <th>3574</th>\n",
       "      <td>Cloud Print</td>\n",
       "      <td>PRODUCTIVITY</td>\n",
       "      <td>500,000,000+</td>\n",
       "      <td>0</td>\n",
       "    </tr>\n",
       "    <tr>\n",
       "      <th>...</th>\n",
       "      <td>...</td>\n",
       "      <td>...</td>\n",
       "      <td>...</td>\n",
       "      <td>...</td>\n",
       "    </tr>\n",
       "    <tr>\n",
       "      <th>8871</th>\n",
       "      <td>Test Application DT 02</td>\n",
       "      <td>ART_AND_DESIGN</td>\n",
       "      <td>0+</td>\n",
       "      <td>0</td>\n",
       "    </tr>\n",
       "    <tr>\n",
       "      <th>9905</th>\n",
       "      <td>Eu sou Rico</td>\n",
       "      <td>FINANCE</td>\n",
       "      <td>0+</td>\n",
       "      <td>$30.99</td>\n",
       "    </tr>\n",
       "    <tr>\n",
       "      <th>9934</th>\n",
       "      <td>I'm Rich/Eu sou Rico/أنا غني/我很有錢</td>\n",
       "      <td>LIFESTYLE</td>\n",
       "      <td>0+</td>\n",
       "      <td>$399.99</td>\n",
       "    </tr>\n",
       "    <tr>\n",
       "      <th>7434</th>\n",
       "      <td>Pekalongan CJ</td>\n",
       "      <td>SOCIAL</td>\n",
       "      <td>0+</td>\n",
       "      <td>0</td>\n",
       "    </tr>\n",
       "    <tr>\n",
       "      <th>9148</th>\n",
       "      <td>Command &amp; Conquer: Rivals</td>\n",
       "      <td>FAMILY</td>\n",
       "      <td>0</td>\n",
       "      <td>0</td>\n",
       "    </tr>\n",
       "  </tbody>\n",
       "</table>\n",
       "<p>10841 rows × 4 columns</p>\n",
       "</div>"
      ],
      "text/plain": [
       "                                               App            Category  \\\n",
       "10472      Life Made WI-Fi Touchscreen Photo Frame                 1.9   \n",
       "420    UC Browser - Fast Download Private & Secure       COMMUNICATION   \n",
       "474                    LINE: Free Calls & Messages       COMMUNICATION   \n",
       "3767                  Flipboard: News For Our Time  NEWS_AND_MAGAZINES   \n",
       "3574                                   Cloud Print        PRODUCTIVITY   \n",
       "...                                            ...                 ...   \n",
       "8871                        Test Application DT 02      ART_AND_DESIGN   \n",
       "9905                                   Eu sou Rico             FINANCE   \n",
       "9934             I'm Rich/Eu sou Rico/أنا غني/我很有錢           LIFESTYLE   \n",
       "7434                                 Pekalongan CJ              SOCIAL   \n",
       "9148                     Command & Conquer: Rivals              FAMILY   \n",
       "\n",
       "           Installs     Price  \n",
       "10472          Free  Everyone  \n",
       "420    500,000,000+         0  \n",
       "474    500,000,000+         0  \n",
       "3767   500,000,000+         0  \n",
       "3574   500,000,000+         0  \n",
       "...             ...       ...  \n",
       "8871             0+         0  \n",
       "9905             0+    $30.99  \n",
       "9934             0+   $399.99  \n",
       "7434             0+         0  \n",
       "9148              0         0  \n",
       "\n",
       "[10841 rows x 4 columns]"
      ]
     },
     "execution_count": 14,
     "metadata": {},
     "output_type": "execute_result"
    }
   ],
   "source": [
    "data.sort_values(by=['Installs'], ascending=False)"
   ]
  },
  {
   "cell_type": "code",
   "execution_count": 15,
   "metadata": {},
   "outputs": [
    {
     "data": {
      "text/plain": [
       "0        0\n",
       "1        0\n",
       "2        0\n",
       "3        0\n",
       "4        0\n",
       "        ..\n",
       "10836    0\n",
       "10837    0\n",
       "10838    0\n",
       "10839    0\n",
       "10840    0\n",
       "Name: Price, Length: 10841, dtype: object"
      ]
     },
     "execution_count": 15,
     "metadata": {},
     "output_type": "execute_result"
    }
   ],
   "source": [
    "data['Price'] = data['Price'].str.replace(',', '')\n",
    "data['Price'] = data['Price'].str.replace('$', '')\n",
    "data['Price']"
   ]
  },
  {
   "cell_type": "code",
   "execution_count": 16,
   "metadata": {},
   "outputs": [
    {
     "data": {
      "text/html": [
       "<div>\n",
       "<style scoped>\n",
       "    .dataframe tbody tr th:only-of-type {\n",
       "        vertical-align: middle;\n",
       "    }\n",
       "\n",
       "    .dataframe tbody tr th {\n",
       "        vertical-align: top;\n",
       "    }\n",
       "\n",
       "    .dataframe thead th {\n",
       "        text-align: right;\n",
       "    }\n",
       "</style>\n",
       "<table border=\"1\" class=\"dataframe\">\n",
       "  <thead>\n",
       "    <tr style=\"text-align: right;\">\n",
       "      <th></th>\n",
       "      <th>App</th>\n",
       "      <th>Category</th>\n",
       "      <th>Installs</th>\n",
       "      <th>Price</th>\n",
       "    </tr>\n",
       "  </thead>\n",
       "  <tbody>\n",
       "    <tr>\n",
       "      <th>10472</th>\n",
       "      <td>Life Made WI-Fi Touchscreen Photo Frame</td>\n",
       "      <td>1.9</td>\n",
       "      <td>Free</td>\n",
       "      <td>Everyone</td>\n",
       "    </tr>\n",
       "    <tr>\n",
       "      <th>4697</th>\n",
       "      <td>FORD V SERIES CALC - NO LIMIT</td>\n",
       "      <td>AUTO_AND_VEHICLES</td>\n",
       "      <td>50+</td>\n",
       "      <td>9.99</td>\n",
       "    </tr>\n",
       "    <tr>\n",
       "      <th>9409</th>\n",
       "      <td>Vital Tones EI Pro</td>\n",
       "      <td>HEALTH_AND_FITNESS</td>\n",
       "      <td>50+</td>\n",
       "      <td>9.99</td>\n",
       "    </tr>\n",
       "    <tr>\n",
       "      <th>2259</th>\n",
       "      <td>Diabetes &amp; Diet Tracker</td>\n",
       "      <td>MEDICAL</td>\n",
       "      <td>1,000+</td>\n",
       "      <td>9.99</td>\n",
       "    </tr>\n",
       "    <tr>\n",
       "      <th>3441</th>\n",
       "      <td>BIG Launcher</td>\n",
       "      <td>PERSONALIZATION</td>\n",
       "      <td>10,000+</td>\n",
       "      <td>9.99</td>\n",
       "    </tr>\n",
       "    <tr>\n",
       "      <th>...</th>\n",
       "      <td>...</td>\n",
       "      <td>...</td>\n",
       "      <td>...</td>\n",
       "      <td>...</td>\n",
       "    </tr>\n",
       "    <tr>\n",
       "      <th>3653</th>\n",
       "      <td>Storm Radar: Tornado Tracker &amp; Hurricane Alerts</td>\n",
       "      <td>WEATHER</td>\n",
       "      <td>1,000,000+</td>\n",
       "      <td>0</td>\n",
       "    </tr>\n",
       "    <tr>\n",
       "      <th>3654</th>\n",
       "      <td>Yandex.Weather</td>\n",
       "      <td>WEATHER</td>\n",
       "      <td>10,000,000+</td>\n",
       "      <td>0</td>\n",
       "    </tr>\n",
       "    <tr>\n",
       "      <th>3655</th>\n",
       "      <td>Local Weather Forecast &amp; Visual Widget</td>\n",
       "      <td>WEATHER</td>\n",
       "      <td>500,000+</td>\n",
       "      <td>0</td>\n",
       "    </tr>\n",
       "    <tr>\n",
       "      <th>3656</th>\n",
       "      <td>Wetter by t-online.de</td>\n",
       "      <td>WEATHER</td>\n",
       "      <td>1,000,000+</td>\n",
       "      <td>0</td>\n",
       "    </tr>\n",
       "    <tr>\n",
       "      <th>10840</th>\n",
       "      <td>iHoroscope - 2018 Daily Horoscope &amp; Astrology</td>\n",
       "      <td>LIFESTYLE</td>\n",
       "      <td>10,000,000+</td>\n",
       "      <td>0</td>\n",
       "    </tr>\n",
       "  </tbody>\n",
       "</table>\n",
       "<p>10841 rows × 4 columns</p>\n",
       "</div>"
      ],
      "text/plain": [
       "                                                   App            Category  \\\n",
       "10472          Life Made WI-Fi Touchscreen Photo Frame                 1.9   \n",
       "4697                     FORD V SERIES CALC - NO LIMIT   AUTO_AND_VEHICLES   \n",
       "9409                                Vital Tones EI Pro  HEALTH_AND_FITNESS   \n",
       "2259                           Diabetes & Diet Tracker             MEDICAL   \n",
       "3441                                      BIG Launcher     PERSONALIZATION   \n",
       "...                                                ...                 ...   \n",
       "3653   Storm Radar: Tornado Tracker & Hurricane Alerts             WEATHER   \n",
       "3654                                    Yandex.Weather             WEATHER   \n",
       "3655            Local Weather Forecast & Visual Widget             WEATHER   \n",
       "3656                             Wetter by t-online.de             WEATHER   \n",
       "10840    iHoroscope - 2018 Daily Horoscope & Astrology           LIFESTYLE   \n",
       "\n",
       "          Installs     Price  \n",
       "10472         Free  Everyone  \n",
       "4697           50+      9.99  \n",
       "9409           50+      9.99  \n",
       "2259        1,000+      9.99  \n",
       "3441       10,000+      9.99  \n",
       "...            ...       ...  \n",
       "3653    1,000,000+         0  \n",
       "3654   10,000,000+         0  \n",
       "3655      500,000+         0  \n",
       "3656    1,000,000+         0  \n",
       "10840  10,000,000+         0  \n",
       "\n",
       "[10841 rows x 4 columns]"
      ]
     },
     "execution_count": 16,
     "metadata": {},
     "output_type": "execute_result"
    }
   ],
   "source": [
    "data.sort_values(by=['Price'], ascending=False)"
   ]
  },
  {
   "cell_type": "code",
   "execution_count": 17,
   "metadata": {},
   "outputs": [
    {
     "data": {
      "text/plain": [
       "0        <class 'str'>\n",
       "1        <class 'str'>\n",
       "2        <class 'str'>\n",
       "3        <class 'str'>\n",
       "4        <class 'str'>\n",
       "             ...      \n",
       "10836    <class 'str'>\n",
       "10837    <class 'str'>\n",
       "10838    <class 'str'>\n",
       "10839    <class 'str'>\n",
       "10840    <class 'str'>\n",
       "Name: Price, Length: 10841, dtype: object"
      ]
     },
     "execution_count": 17,
     "metadata": {},
     "output_type": "execute_result"
    }
   ],
   "source": [
    "data['Price'].apply(type)"
   ]
  },
  {
   "cell_type": "code",
   "execution_count": 18,
   "metadata": {},
   "outputs": [],
   "source": [
    "# remove all other rows except Health and Fitness\n",
    "data.drop(data[data['Category'] != 'HEALTH_AND_FITNESS'].index, inplace=True)"
   ]
  },
  {
   "cell_type": "code",
   "execution_count": 19,
   "metadata": {},
   "outputs": [
    {
     "data": {
      "text/html": [
       "<div>\n",
       "<style scoped>\n",
       "    .dataframe tbody tr th:only-of-type {\n",
       "        vertical-align: middle;\n",
       "    }\n",
       "\n",
       "    .dataframe tbody tr th {\n",
       "        vertical-align: top;\n",
       "    }\n",
       "\n",
       "    .dataframe thead th {\n",
       "        text-align: right;\n",
       "    }\n",
       "</style>\n",
       "<table border=\"1\" class=\"dataframe\">\n",
       "  <thead>\n",
       "    <tr style=\"text-align: right;\">\n",
       "      <th></th>\n",
       "      <th>App</th>\n",
       "      <th>Category</th>\n",
       "      <th>Installs</th>\n",
       "      <th>Price</th>\n",
       "    </tr>\n",
       "  </thead>\n",
       "  <tbody>\n",
       "    <tr>\n",
       "      <th>9409</th>\n",
       "      <td>Vital Tones EI Pro</td>\n",
       "      <td>HEALTH_AND_FITNESS</td>\n",
       "      <td>50+</td>\n",
       "      <td>9.99</td>\n",
       "    </tr>\n",
       "    <tr>\n",
       "      <th>10760</th>\n",
       "      <td>Fast Tract Diet</td>\n",
       "      <td>HEALTH_AND_FITNESS</td>\n",
       "      <td>1,000+</td>\n",
       "      <td>7.99</td>\n",
       "    </tr>\n",
       "    <tr>\n",
       "      <th>9647</th>\n",
       "      <td>The EO Bar</td>\n",
       "      <td>HEALTH_AND_FITNESS</td>\n",
       "      <td>10,000+</td>\n",
       "      <td>6.99</td>\n",
       "    </tr>\n",
       "    <tr>\n",
       "      <th>6596</th>\n",
       "      <td>Monitor My BP</td>\n",
       "      <td>HEALTH_AND_FITNESS</td>\n",
       "      <td>50+</td>\n",
       "      <td>5.99</td>\n",
       "    </tr>\n",
       "    <tr>\n",
       "      <th>8792</th>\n",
       "      <td>Dr. McDougall Mobile Cookbook</td>\n",
       "      <td>HEALTH_AND_FITNESS</td>\n",
       "      <td>1,000+</td>\n",
       "      <td>4.99</td>\n",
       "    </tr>\n",
       "    <tr>\n",
       "      <th>...</th>\n",
       "      <td>...</td>\n",
       "      <td>...</td>\n",
       "      <td>...</td>\n",
       "      <td>...</td>\n",
       "    </tr>\n",
       "    <tr>\n",
       "      <th>1371</th>\n",
       "      <td>Tracks</td>\n",
       "      <td>HEALTH_AND_FITNESS</td>\n",
       "      <td>50,000+</td>\n",
       "      <td>0</td>\n",
       "    </tr>\n",
       "    <tr>\n",
       "      <th>1370</th>\n",
       "      <td>Zombies, Run! 5k Training (Free)</td>\n",
       "      <td>HEALTH_AND_FITNESS</td>\n",
       "      <td>50,000+</td>\n",
       "      <td>0</td>\n",
       "    </tr>\n",
       "    <tr>\n",
       "      <th>1369</th>\n",
       "      <td>Water Drink Reminder</td>\n",
       "      <td>HEALTH_AND_FITNESS</td>\n",
       "      <td>10,000,000+</td>\n",
       "      <td>0</td>\n",
       "    </tr>\n",
       "    <tr>\n",
       "      <th>1368</th>\n",
       "      <td>AllTrails: Hiking, Running &amp; Mountain Bike Trails</td>\n",
       "      <td>HEALTH_AND_FITNESS</td>\n",
       "      <td>1,000,000+</td>\n",
       "      <td>0</td>\n",
       "    </tr>\n",
       "    <tr>\n",
       "      <th>1426</th>\n",
       "      <td>Binaural Beats Therapy</td>\n",
       "      <td>HEALTH_AND_FITNESS</td>\n",
       "      <td>1,000,000+</td>\n",
       "      <td>0</td>\n",
       "    </tr>\n",
       "  </tbody>\n",
       "</table>\n",
       "<p>341 rows × 4 columns</p>\n",
       "</div>"
      ],
      "text/plain": [
       "                                                     App            Category  \\\n",
       "9409                                  Vital Tones EI Pro  HEALTH_AND_FITNESS   \n",
       "10760                                    Fast Tract Diet  HEALTH_AND_FITNESS   \n",
       "9647                                          The EO Bar  HEALTH_AND_FITNESS   \n",
       "6596                                       Monitor My BP  HEALTH_AND_FITNESS   \n",
       "8792                       Dr. McDougall Mobile Cookbook  HEALTH_AND_FITNESS   \n",
       "...                                                  ...                 ...   \n",
       "1371                                              Tracks  HEALTH_AND_FITNESS   \n",
       "1370                    Zombies, Run! 5k Training (Free)  HEALTH_AND_FITNESS   \n",
       "1369                                Water Drink Reminder  HEALTH_AND_FITNESS   \n",
       "1368   AllTrails: Hiking, Running & Mountain Bike Trails  HEALTH_AND_FITNESS   \n",
       "1426                              Binaural Beats Therapy  HEALTH_AND_FITNESS   \n",
       "\n",
       "          Installs Price  \n",
       "9409           50+  9.99  \n",
       "10760       1,000+  7.99  \n",
       "9647       10,000+  6.99  \n",
       "6596           50+  5.99  \n",
       "8792        1,000+  4.99  \n",
       "...            ...   ...  \n",
       "1371       50,000+     0  \n",
       "1370       50,000+     0  \n",
       "1369   10,000,000+     0  \n",
       "1368    1,000,000+     0  \n",
       "1426    1,000,000+     0  \n",
       "\n",
       "[341 rows x 4 columns]"
      ]
     },
     "execution_count": 19,
     "metadata": {},
     "output_type": "execute_result"
    }
   ],
   "source": [
    "data.sort_values(by=['Price'], ascending=False)"
   ]
  },
  {
   "cell_type": "code",
   "execution_count": 20,
   "metadata": {},
   "outputs": [
    {
     "data": {
      "text/plain": [
       "App         0\n",
       "Category    0\n",
       "Installs    0\n",
       "Price       0\n",
       "dtype: int64"
      ]
     },
     "execution_count": 20,
     "metadata": {},
     "output_type": "execute_result"
    }
   ],
   "source": [
    "data.isnull().sum()"
   ]
  },
  {
   "cell_type": "code",
   "execution_count": 21,
   "metadata": {},
   "outputs": [
    {
     "data": {
      "text/plain": [
       "<class 'str'>    341\n",
       "Name: Price, dtype: int64"
      ]
     },
     "execution_count": 21,
     "metadata": {},
     "output_type": "execute_result"
    }
   ],
   "source": [
    "data['Price'].apply(type).value_counts()"
   ]
  },
  {
   "cell_type": "code",
   "execution_count": 22,
   "metadata": {},
   "outputs": [],
   "source": [
    "data['Price'] = pd.to_numeric(data['Price'], errors='coerce')"
   ]
  },
  {
   "cell_type": "code",
   "execution_count": 23,
   "metadata": {},
   "outputs": [
    {
     "data": {
      "text/plain": [
       "<class 'float'>    341\n",
       "Name: Price, dtype: int64"
      ]
     },
     "execution_count": 23,
     "metadata": {},
     "output_type": "execute_result"
    }
   ],
   "source": [
    "data['Price'].apply(type).value_counts()"
   ]
  },
  {
   "cell_type": "code",
   "execution_count": 24,
   "metadata": {},
   "outputs": [
    {
     "data": {
      "text/plain": [
       "'$0.20'"
      ]
     },
     "execution_count": 24,
     "metadata": {},
     "output_type": "execute_result"
    }
   ],
   "source": [
    "# App price mean\n",
    "priceMean = data['Price'].mean()\n",
    "f_priceMean = '${:,.2f}'.format(priceMean)\n",
    "f_priceMean"
   ]
  },
  {
   "cell_type": "code",
   "execution_count": 25,
   "metadata": {},
   "outputs": [
    {
     "data": {
      "text/plain": [
       "<AxesSubplot:>"
      ]
     },
     "execution_count": 25,
     "metadata": {},
     "output_type": "execute_result"
    },
    {
     "data": {
      "image/png": "[encoded data removed]",
      "text/plain": [
       "<Figure size 432x288 with 1 Axes>"
      ]
     },
     "metadata": {
      "needs_background": "light"
     },
     "output_type": "display_data"
    }
   ],
   "source": [
    "# graph price\n",
    "\n",
    "data['Price'].hist(bins=10)"
   ]
  },
  {
   "cell_type": "code",
   "execution_count": 26,
   "metadata": {},
   "outputs": [
    {
     "data": {
      "text/plain": [
       "1256     <class 'str'>\n",
       "1257     <class 'str'>\n",
       "1258     <class 'str'>\n",
       "1259     <class 'str'>\n",
       "1260     <class 'str'>\n",
       "             ...      \n",
       "10362    <class 'str'>\n",
       "10402    <class 'str'>\n",
       "10600    <class 'str'>\n",
       "10630    <class 'str'>\n",
       "10760    <class 'str'>\n",
       "Name: Installs, Length: 341, dtype: object"
      ]
     },
     "execution_count": 26,
     "metadata": {},
     "output_type": "execute_result"
    }
   ],
   "source": [
    "data['Installs'].apply(type)"
   ]
  },
  {
   "cell_type": "code",
   "execution_count": 27,
   "metadata": {},
   "outputs": [],
   "source": [
    "data['Installs'] = data['Installs'].str.replace('+', '')\n",
    "data['Installs'] = data['Installs'].str.replace(',', '')"
   ]
  },
  {
   "cell_type": "code",
   "execution_count": 28,
   "metadata": {},
   "outputs": [
    {
     "data": {
      "text/html": [
       "<div>\n",
       "<style scoped>\n",
       "    .dataframe tbody tr th:only-of-type {\n",
       "        vertical-align: middle;\n",
       "    }\n",
       "\n",
       "    .dataframe tbody tr th {\n",
       "        vertical-align: top;\n",
       "    }\n",
       "\n",
       "    .dataframe thead th {\n",
       "        text-align: right;\n",
       "    }\n",
       "</style>\n",
       "<table border=\"1\" class=\"dataframe\">\n",
       "  <thead>\n",
       "    <tr style=\"text-align: right;\">\n",
       "      <th></th>\n",
       "      <th>App</th>\n",
       "      <th>Category</th>\n",
       "      <th>Installs</th>\n",
       "      <th>Price</th>\n",
       "    </tr>\n",
       "  </thead>\n",
       "  <tbody>\n",
       "    <tr>\n",
       "      <th>1256</th>\n",
       "      <td>Home Workout - No Equipment</td>\n",
       "      <td>HEALTH_AND_FITNESS</td>\n",
       "      <td>10000000</td>\n",
       "      <td>0.0</td>\n",
       "    </tr>\n",
       "    <tr>\n",
       "      <th>1257</th>\n",
       "      <td>Step Counter - Calorie Counter</td>\n",
       "      <td>HEALTH_AND_FITNESS</td>\n",
       "      <td>500000</td>\n",
       "      <td>0.0</td>\n",
       "    </tr>\n",
       "    <tr>\n",
       "      <th>1258</th>\n",
       "      <td>Lose Belly Fat in 30 Days - Flat Stomach</td>\n",
       "      <td>HEALTH_AND_FITNESS</td>\n",
       "      <td>5000000</td>\n",
       "      <td>0.0</td>\n",
       "    </tr>\n",
       "    <tr>\n",
       "      <th>1259</th>\n",
       "      <td>Pedometer - Step Counter Free &amp; Calorie Burner</td>\n",
       "      <td>HEALTH_AND_FITNESS</td>\n",
       "      <td>1000000</td>\n",
       "      <td>0.0</td>\n",
       "    </tr>\n",
       "    <tr>\n",
       "      <th>1260</th>\n",
       "      <td>Six Pack in 30 Days - Abs Workout</td>\n",
       "      <td>HEALTH_AND_FITNESS</td>\n",
       "      <td>10000000</td>\n",
       "      <td>0.0</td>\n",
       "    </tr>\n",
       "  </tbody>\n",
       "</table>\n",
       "</div>"
      ],
      "text/plain": [
       "                                                 App            Category  \\\n",
       "1256                     Home Workout - No Equipment  HEALTH_AND_FITNESS   \n",
       "1257                  Step Counter - Calorie Counter  HEALTH_AND_FITNESS   \n",
       "1258        Lose Belly Fat in 30 Days - Flat Stomach  HEALTH_AND_FITNESS   \n",
       "1259  Pedometer - Step Counter Free & Calorie Burner  HEALTH_AND_FITNESS   \n",
       "1260               Six Pack in 30 Days - Abs Workout  HEALTH_AND_FITNESS   \n",
       "\n",
       "      Installs  Price  \n",
       "1256  10000000    0.0  \n",
       "1257    500000    0.0  \n",
       "1258   5000000    0.0  \n",
       "1259   1000000    0.0  \n",
       "1260  10000000    0.0  "
      ]
     },
     "execution_count": 28,
     "metadata": {},
     "output_type": "execute_result"
    }
   ],
   "source": [
    "data.head()"
   ]
  },
  {
   "cell_type": "code",
   "execution_count": 29,
   "metadata": {},
   "outputs": [
    {
     "data": {
      "text/plain": [
       "array(['10000000', '500000', '5000000', '1000000', '100000', '50000',\n",
       "       '50000000', '10000', '100000000', '5000', '1000', '100', '10',\n",
       "       '500000000', '500', '1', '5', '50'], dtype=object)"
      ]
     },
     "execution_count": 29,
     "metadata": {},
     "output_type": "execute_result"
    }
   ],
   "source": [
    "data['Installs'].unique()"
   ]
  },
  {
   "cell_type": "code",
   "execution_count": 30,
   "metadata": {},
   "outputs": [
    {
     "data": {
      "text/plain": [
       "App          object\n",
       "Category     object\n",
       "Installs     object\n",
       "Price       float64\n",
       "dtype: object"
      ]
     },
     "execution_count": 30,
     "metadata": {},
     "output_type": "execute_result"
    }
   ],
   "source": [
    "data.dtypes"
   ]
  },
  {
   "cell_type": "code",
   "execution_count": 31,
   "metadata": {},
   "outputs": [
    {
     "data": {
      "text/html": [
       "<div>\n",
       "<style scoped>\n",
       "    .dataframe tbody tr th:only-of-type {\n",
       "        vertical-align: middle;\n",
       "    }\n",
       "\n",
       "    .dataframe tbody tr th {\n",
       "        vertical-align: top;\n",
       "    }\n",
       "\n",
       "    .dataframe thead th {\n",
       "        text-align: right;\n",
       "    }\n",
       "</style>\n",
       "<table border=\"1\" class=\"dataframe\">\n",
       "  <thead>\n",
       "    <tr style=\"text-align: right;\">\n",
       "      <th></th>\n",
       "      <th>App</th>\n",
       "      <th>Category</th>\n",
       "      <th>Installs</th>\n",
       "      <th>Price</th>\n",
       "    </tr>\n",
       "  </thead>\n",
       "  <tbody>\n",
       "    <tr>\n",
       "      <th>5596</th>\n",
       "      <td>Samsung Health</td>\n",
       "      <td>HEALTH_AND_FITNESS</td>\n",
       "      <td>500000000</td>\n",
       "      <td>0.0</td>\n",
       "    </tr>\n",
       "    <tr>\n",
       "      <th>1286</th>\n",
       "      <td>Calorie Counter - MyFitnessPal</td>\n",
       "      <td>HEALTH_AND_FITNESS</td>\n",
       "      <td>50000000</td>\n",
       "      <td>0.0</td>\n",
       "    </tr>\n",
       "    <tr>\n",
       "      <th>1421</th>\n",
       "      <td>Calorie Counter - MyFitnessPal</td>\n",
       "      <td>HEALTH_AND_FITNESS</td>\n",
       "      <td>50000000</td>\n",
       "      <td>0.0</td>\n",
       "    </tr>\n",
       "    <tr>\n",
       "      <th>1404</th>\n",
       "      <td>Calorie Counter - MyFitnessPal</td>\n",
       "      <td>HEALTH_AND_FITNESS</td>\n",
       "      <td>50000000</td>\n",
       "      <td>0.0</td>\n",
       "    </tr>\n",
       "    <tr>\n",
       "      <th>1362</th>\n",
       "      <td>Calorie Counter - MyFitnessPal</td>\n",
       "      <td>HEALTH_AND_FITNESS</td>\n",
       "      <td>50000000</td>\n",
       "      <td>0.0</td>\n",
       "    </tr>\n",
       "    <tr>\n",
       "      <th>...</th>\n",
       "      <td>...</td>\n",
       "      <td>...</td>\n",
       "      <td>...</td>\n",
       "      <td>...</td>\n",
       "    </tr>\n",
       "    <tr>\n",
       "      <th>8113</th>\n",
       "      <td>Cy's Elma Pharmacy</td>\n",
       "      <td>HEALTH_AND_FITNESS</td>\n",
       "      <td>10</td>\n",
       "      <td>0.0</td>\n",
       "    </tr>\n",
       "    <tr>\n",
       "      <th>7493</th>\n",
       "      <td>CK Active</td>\n",
       "      <td>HEALTH_AND_FITNESS</td>\n",
       "      <td>10</td>\n",
       "      <td>0.0</td>\n",
       "    </tr>\n",
       "    <tr>\n",
       "      <th>7116</th>\n",
       "      <td>CB Martial Arts</td>\n",
       "      <td>HEALTH_AND_FITNESS</td>\n",
       "      <td>10</td>\n",
       "      <td>0.0</td>\n",
       "    </tr>\n",
       "    <tr>\n",
       "      <th>6239</th>\n",
       "      <td>BH - Fitness &amp; Nutrition</td>\n",
       "      <td>HEALTH_AND_FITNESS</td>\n",
       "      <td>1</td>\n",
       "      <td>0.0</td>\n",
       "    </tr>\n",
       "    <tr>\n",
       "      <th>6962</th>\n",
       "      <td>Kick Axe Bx</td>\n",
       "      <td>HEALTH_AND_FITNESS</td>\n",
       "      <td>1</td>\n",
       "      <td>0.0</td>\n",
       "    </tr>\n",
       "  </tbody>\n",
       "</table>\n",
       "<p>341 rows × 4 columns</p>\n",
       "</div>"
      ],
      "text/plain": [
       "                                 App            Category   Installs  Price\n",
       "5596                  Samsung Health  HEALTH_AND_FITNESS  500000000    0.0\n",
       "1286  Calorie Counter - MyFitnessPal  HEALTH_AND_FITNESS   50000000    0.0\n",
       "1421  Calorie Counter - MyFitnessPal  HEALTH_AND_FITNESS   50000000    0.0\n",
       "1404  Calorie Counter - MyFitnessPal  HEALTH_AND_FITNESS   50000000    0.0\n",
       "1362  Calorie Counter - MyFitnessPal  HEALTH_AND_FITNESS   50000000    0.0\n",
       "...                              ...                 ...        ...    ...\n",
       "8113              Cy's Elma Pharmacy  HEALTH_AND_FITNESS         10    0.0\n",
       "7493                       CK Active  HEALTH_AND_FITNESS         10    0.0\n",
       "7116                 CB Martial Arts  HEALTH_AND_FITNESS         10    0.0\n",
       "6239        BH - Fitness & Nutrition  HEALTH_AND_FITNESS          1    0.0\n",
       "6962                     Kick Axe Bx  HEALTH_AND_FITNESS          1    0.0\n",
       "\n",
       "[341 rows x 4 columns]"
      ]
     },
     "execution_count": 31,
     "metadata": {},
     "output_type": "execute_result"
    }
   ],
   "source": [
    "data.sort_values(by=['Installs'], ascending=False)"
   ]
  },
  {
   "cell_type": "code",
   "execution_count": 32,
   "metadata": {},
   "outputs": [],
   "source": [
    "data['Installs'] = pd.to_numeric(data['Installs'], errors='coerce')"
   ]
  },
  {
   "cell_type": "code",
   "execution_count": 33,
   "metadata": {},
   "outputs": [
    {
     "data": {
      "text/html": [
       "<div>\n",
       "<style scoped>\n",
       "    .dataframe tbody tr th:only-of-type {\n",
       "        vertical-align: middle;\n",
       "    }\n",
       "\n",
       "    .dataframe tbody tr th {\n",
       "        vertical-align: top;\n",
       "    }\n",
       "\n",
       "    .dataframe thead th {\n",
       "        text-align: right;\n",
       "    }\n",
       "</style>\n",
       "<table border=\"1\" class=\"dataframe\">\n",
       "  <thead>\n",
       "    <tr style=\"text-align: right;\">\n",
       "      <th></th>\n",
       "      <th>App</th>\n",
       "      <th>Category</th>\n",
       "      <th>Installs</th>\n",
       "      <th>Price</th>\n",
       "    </tr>\n",
       "  </thead>\n",
       "  <tbody>\n",
       "    <tr>\n",
       "      <th>1256</th>\n",
       "      <td>Home Workout - No Equipment</td>\n",
       "      <td>HEALTH_AND_FITNESS</td>\n",
       "      <td>10000000</td>\n",
       "      <td>0.0</td>\n",
       "    </tr>\n",
       "    <tr>\n",
       "      <th>1257</th>\n",
       "      <td>Step Counter - Calorie Counter</td>\n",
       "      <td>HEALTH_AND_FITNESS</td>\n",
       "      <td>500000</td>\n",
       "      <td>0.0</td>\n",
       "    </tr>\n",
       "    <tr>\n",
       "      <th>1258</th>\n",
       "      <td>Lose Belly Fat in 30 Days - Flat Stomach</td>\n",
       "      <td>HEALTH_AND_FITNESS</td>\n",
       "      <td>5000000</td>\n",
       "      <td>0.0</td>\n",
       "    </tr>\n",
       "    <tr>\n",
       "      <th>1259</th>\n",
       "      <td>Pedometer - Step Counter Free &amp; Calorie Burner</td>\n",
       "      <td>HEALTH_AND_FITNESS</td>\n",
       "      <td>1000000</td>\n",
       "      <td>0.0</td>\n",
       "    </tr>\n",
       "    <tr>\n",
       "      <th>1260</th>\n",
       "      <td>Six Pack in 30 Days - Abs Workout</td>\n",
       "      <td>HEALTH_AND_FITNESS</td>\n",
       "      <td>10000000</td>\n",
       "      <td>0.0</td>\n",
       "    </tr>\n",
       "  </tbody>\n",
       "</table>\n",
       "</div>"
      ],
      "text/plain": [
       "                                                 App            Category  \\\n",
       "1256                     Home Workout - No Equipment  HEALTH_AND_FITNESS   \n",
       "1257                  Step Counter - Calorie Counter  HEALTH_AND_FITNESS   \n",
       "1258        Lose Belly Fat in 30 Days - Flat Stomach  HEALTH_AND_FITNESS   \n",
       "1259  Pedometer - Step Counter Free & Calorie Burner  HEALTH_AND_FITNESS   \n",
       "1260               Six Pack in 30 Days - Abs Workout  HEALTH_AND_FITNESS   \n",
       "\n",
       "      Installs  Price  \n",
       "1256  10000000    0.0  \n",
       "1257    500000    0.0  \n",
       "1258   5000000    0.0  \n",
       "1259   1000000    0.0  \n",
       "1260  10000000    0.0  "
      ]
     },
     "execution_count": 33,
     "metadata": {},
     "output_type": "execute_result"
    }
   ],
   "source": [
    "data.head()"
   ]
  },
  {
   "cell_type": "code",
   "execution_count": 34,
   "metadata": {},
   "outputs": [
    {
     "data": {
      "text/plain": [
       "'4,642,441 installs'"
      ]
     },
     "execution_count": 34,
     "metadata": {},
     "output_type": "execute_result"
    }
   ],
   "source": [
    "# Mean installs\n",
    "installsMean = data['Installs'].mean()\n",
    "f_installsMean ='{:,.0f} installs'.format(installsMean)\n",
    "f_installsMean"
   ]
  },
  {
   "cell_type": "code",
   "execution_count": 35,
   "metadata": {},
   "outputs": [
    {
     "data": {
      "text/html": [
       "<div>\n",
       "<style scoped>\n",
       "    .dataframe tbody tr th:only-of-type {\n",
       "        vertical-align: middle;\n",
       "    }\n",
       "\n",
       "    .dataframe tbody tr th {\n",
       "        vertical-align: top;\n",
       "    }\n",
       "\n",
       "    .dataframe thead th {\n",
       "        text-align: right;\n",
       "    }\n",
       "</style>\n",
       "<table border=\"1\" class=\"dataframe\">\n",
       "  <thead>\n",
       "    <tr style=\"text-align: right;\">\n",
       "      <th></th>\n",
       "      <th>App</th>\n",
       "      <th>Category</th>\n",
       "      <th>Installs</th>\n",
       "      <th>Price</th>\n",
       "    </tr>\n",
       "  </thead>\n",
       "  <tbody>\n",
       "    <tr>\n",
       "      <th>9409</th>\n",
       "      <td>Vital Tones EI Pro</td>\n",
       "      <td>HEALTH_AND_FITNESS</td>\n",
       "      <td>50</td>\n",
       "      <td>9.99</td>\n",
       "    </tr>\n",
       "    <tr>\n",
       "      <th>10760</th>\n",
       "      <td>Fast Tract Diet</td>\n",
       "      <td>HEALTH_AND_FITNESS</td>\n",
       "      <td>1000</td>\n",
       "      <td>7.99</td>\n",
       "    </tr>\n",
       "    <tr>\n",
       "      <th>9647</th>\n",
       "      <td>The EO Bar</td>\n",
       "      <td>HEALTH_AND_FITNESS</td>\n",
       "      <td>10000</td>\n",
       "      <td>6.99</td>\n",
       "    </tr>\n",
       "    <tr>\n",
       "      <th>6596</th>\n",
       "      <td>Monitor My BP</td>\n",
       "      <td>HEALTH_AND_FITNESS</td>\n",
       "      <td>50</td>\n",
       "      <td>5.99</td>\n",
       "    </tr>\n",
       "    <tr>\n",
       "      <th>8792</th>\n",
       "      <td>Dr. McDougall Mobile Cookbook</td>\n",
       "      <td>HEALTH_AND_FITNESS</td>\n",
       "      <td>1000</td>\n",
       "      <td>4.99</td>\n",
       "    </tr>\n",
       "    <tr>\n",
       "      <th>...</th>\n",
       "      <td>...</td>\n",
       "      <td>...</td>\n",
       "      <td>...</td>\n",
       "      <td>...</td>\n",
       "    </tr>\n",
       "    <tr>\n",
       "      <th>1371</th>\n",
       "      <td>Tracks</td>\n",
       "      <td>HEALTH_AND_FITNESS</td>\n",
       "      <td>50000</td>\n",
       "      <td>0.00</td>\n",
       "    </tr>\n",
       "    <tr>\n",
       "      <th>1370</th>\n",
       "      <td>Zombies, Run! 5k Training (Free)</td>\n",
       "      <td>HEALTH_AND_FITNESS</td>\n",
       "      <td>50000</td>\n",
       "      <td>0.00</td>\n",
       "    </tr>\n",
       "    <tr>\n",
       "      <th>1369</th>\n",
       "      <td>Water Drink Reminder</td>\n",
       "      <td>HEALTH_AND_FITNESS</td>\n",
       "      <td>10000000</td>\n",
       "      <td>0.00</td>\n",
       "    </tr>\n",
       "    <tr>\n",
       "      <th>1368</th>\n",
       "      <td>AllTrails: Hiking, Running &amp; Mountain Bike Trails</td>\n",
       "      <td>HEALTH_AND_FITNESS</td>\n",
       "      <td>1000000</td>\n",
       "      <td>0.00</td>\n",
       "    </tr>\n",
       "    <tr>\n",
       "      <th>1426</th>\n",
       "      <td>Binaural Beats Therapy</td>\n",
       "      <td>HEALTH_AND_FITNESS</td>\n",
       "      <td>1000000</td>\n",
       "      <td>0.00</td>\n",
       "    </tr>\n",
       "  </tbody>\n",
       "</table>\n",
       "<p>341 rows × 4 columns</p>\n",
       "</div>"
      ],
      "text/plain": [
       "                                                     App            Category  \\\n",
       "9409                                  Vital Tones EI Pro  HEALTH_AND_FITNESS   \n",
       "10760                                    Fast Tract Diet  HEALTH_AND_FITNESS   \n",
       "9647                                          The EO Bar  HEALTH_AND_FITNESS   \n",
       "6596                                       Monitor My BP  HEALTH_AND_FITNESS   \n",
       "8792                       Dr. McDougall Mobile Cookbook  HEALTH_AND_FITNESS   \n",
       "...                                                  ...                 ...   \n",
       "1371                                              Tracks  HEALTH_AND_FITNESS   \n",
       "1370                    Zombies, Run! 5k Training (Free)  HEALTH_AND_FITNESS   \n",
       "1369                                Water Drink Reminder  HEALTH_AND_FITNESS   \n",
       "1368   AllTrails: Hiking, Running & Mountain Bike Trails  HEALTH_AND_FITNESS   \n",
       "1426                              Binaural Beats Therapy  HEALTH_AND_FITNESS   \n",
       "\n",
       "       Installs  Price  \n",
       "9409         50   9.99  \n",
       "10760      1000   7.99  \n",
       "9647      10000   6.99  \n",
       "6596         50   5.99  \n",
       "8792       1000   4.99  \n",
       "...         ...    ...  \n",
       "1371      50000   0.00  \n",
       "1370      50000   0.00  \n",
       "1369   10000000   0.00  \n",
       "1368    1000000   0.00  \n",
       "1426    1000000   0.00  \n",
       "\n",
       "[341 rows x 4 columns]"
      ]
     },
     "execution_count": 35,
     "metadata": {},
     "output_type": "execute_result"
    }
   ],
   "source": [
    "data.sort_values(by=['Price'], ascending=False)"
   ]
  },
  {
   "cell_type": "code",
   "execution_count": 66,
   "metadata": {},
   "outputs": [
    {
     "data": {
      "text/plain": [
       "6962    1e-06MM\n",
       "6239    1e-06MM\n",
       "7526    5e-06MM\n",
       "6437    5e-06MM\n",
       "8872    1e-05MM\n",
       "         ...   \n",
       "1362     50.0MM\n",
       "1404     50.0MM\n",
       "1386     50.0MM\n",
       "1360    100.0MM\n",
       "5596    500.0MM\n",
       "Name: Installs (in millions), Length: 341, dtype: object"
      ]
     },
     "execution_count": 66,
     "metadata": {},
     "output_type": "execute_result"
    }
   ],
   "source": [
    "# Convert numbers to more manageable amounts\n",
    "data['Installs (in millions)'] = (data['Installs'].astype(int)/1000000).astype(str) + 'MM'\n",
    "data['Installs (in millions)']"
   ]
  },
  {
   "cell_type": "code",
   "execution_count": 67,
   "metadata": {},
   "outputs": [
    {
     "data": {
      "text/plain": [
       "App                        object\n",
       "Category                   object\n",
       "Installs                    int64\n",
       "Price                     float64\n",
       "Installs (in millions)     object\n",
       "dtype: object"
      ]
     },
     "execution_count": 67,
     "metadata": {},
     "output_type": "execute_result"
    }
   ],
   "source": [
    "data.dtypes"
   ]
  },
  {
   "cell_type": "code",
   "execution_count": 68,
   "metadata": {},
   "outputs": [
    {
     "data": {
      "text/html": [
       "<div>\n",
       "<style scoped>\n",
       "    .dataframe tbody tr th:only-of-type {\n",
       "        vertical-align: middle;\n",
       "    }\n",
       "\n",
       "    .dataframe tbody tr th {\n",
       "        vertical-align: top;\n",
       "    }\n",
       "\n",
       "    .dataframe thead th {\n",
       "        text-align: right;\n",
       "    }\n",
       "</style>\n",
       "<table border=\"1\" class=\"dataframe\">\n",
       "  <thead>\n",
       "    <tr style=\"text-align: right;\">\n",
       "      <th></th>\n",
       "      <th>App</th>\n",
       "      <th>Category</th>\n",
       "      <th>Installs</th>\n",
       "      <th>Price</th>\n",
       "      <th>Installs (in millions)</th>\n",
       "    </tr>\n",
       "  </thead>\n",
       "  <tbody>\n",
       "    <tr>\n",
       "      <th>6962</th>\n",
       "      <td>Kick Axe Bx</td>\n",
       "      <td>HEALTH_AND_FITNESS</td>\n",
       "      <td>1</td>\n",
       "      <td>0.0</td>\n",
       "      <td>1e-06MM</td>\n",
       "    </tr>\n",
       "    <tr>\n",
       "      <th>6239</th>\n",
       "      <td>BH - Fitness &amp; Nutrition</td>\n",
       "      <td>HEALTH_AND_FITNESS</td>\n",
       "      <td>1</td>\n",
       "      <td>0.0</td>\n",
       "      <td>1e-06MM</td>\n",
       "    </tr>\n",
       "    <tr>\n",
       "      <th>7526</th>\n",
       "      <td>CL-Customer Care</td>\n",
       "      <td>HEALTH_AND_FITNESS</td>\n",
       "      <td>5</td>\n",
       "      <td>0.0</td>\n",
       "      <td>5e-06MM</td>\n",
       "    </tr>\n",
       "    <tr>\n",
       "      <th>6437</th>\n",
       "      <td>BL ONLINE PERSONAL TRAINING</td>\n",
       "      <td>HEALTH_AND_FITNESS</td>\n",
       "      <td>5</td>\n",
       "      <td>0.0</td>\n",
       "      <td>5e-06MM</td>\n",
       "    </tr>\n",
       "    <tr>\n",
       "      <th>9074</th>\n",
       "      <td>DY Fitness</td>\n",
       "      <td>HEALTH_AND_FITNESS</td>\n",
       "      <td>10</td>\n",
       "      <td>0.0</td>\n",
       "      <td>1e-05MM</td>\n",
       "    </tr>\n",
       "    <tr>\n",
       "      <th>...</th>\n",
       "      <td>...</td>\n",
       "      <td>...</td>\n",
       "      <td>...</td>\n",
       "      <td>...</td>\n",
       "      <td>...</td>\n",
       "    </tr>\n",
       "    <tr>\n",
       "      <th>1286</th>\n",
       "      <td>Calorie Counter - MyFitnessPal</td>\n",
       "      <td>HEALTH_AND_FITNESS</td>\n",
       "      <td>50000000</td>\n",
       "      <td>0.0</td>\n",
       "      <td>50.0MM</td>\n",
       "    </tr>\n",
       "    <tr>\n",
       "      <th>1362</th>\n",
       "      <td>Calorie Counter - MyFitnessPal</td>\n",
       "      <td>HEALTH_AND_FITNESS</td>\n",
       "      <td>50000000</td>\n",
       "      <td>0.0</td>\n",
       "      <td>50.0MM</td>\n",
       "    </tr>\n",
       "    <tr>\n",
       "      <th>1386</th>\n",
       "      <td>Calorie Counter - MyFitnessPal</td>\n",
       "      <td>HEALTH_AND_FITNESS</td>\n",
       "      <td>50000000</td>\n",
       "      <td>0.0</td>\n",
       "      <td>50.0MM</td>\n",
       "    </tr>\n",
       "    <tr>\n",
       "      <th>1360</th>\n",
       "      <td>Period Tracker - Period Calendar Ovulation Tra...</td>\n",
       "      <td>HEALTH_AND_FITNESS</td>\n",
       "      <td>100000000</td>\n",
       "      <td>0.0</td>\n",
       "      <td>100.0MM</td>\n",
       "    </tr>\n",
       "    <tr>\n",
       "      <th>5596</th>\n",
       "      <td>Samsung Health</td>\n",
       "      <td>HEALTH_AND_FITNESS</td>\n",
       "      <td>500000000</td>\n",
       "      <td>0.0</td>\n",
       "      <td>500.0MM</td>\n",
       "    </tr>\n",
       "  </tbody>\n",
       "</table>\n",
       "<p>341 rows × 5 columns</p>\n",
       "</div>"
      ],
      "text/plain": [
       "                                                    App            Category  \\\n",
       "6962                                        Kick Axe Bx  HEALTH_AND_FITNESS   \n",
       "6239                           BH - Fitness & Nutrition  HEALTH_AND_FITNESS   \n",
       "7526                                   CL-Customer Care  HEALTH_AND_FITNESS   \n",
       "6437                        BL ONLINE PERSONAL TRAINING  HEALTH_AND_FITNESS   \n",
       "9074                                         DY Fitness  HEALTH_AND_FITNESS   \n",
       "...                                                 ...                 ...   \n",
       "1286                     Calorie Counter - MyFitnessPal  HEALTH_AND_FITNESS   \n",
       "1362                     Calorie Counter - MyFitnessPal  HEALTH_AND_FITNESS   \n",
       "1386                     Calorie Counter - MyFitnessPal  HEALTH_AND_FITNESS   \n",
       "1360  Period Tracker - Period Calendar Ovulation Tra...  HEALTH_AND_FITNESS   \n",
       "5596                                     Samsung Health  HEALTH_AND_FITNESS   \n",
       "\n",
       "       Installs  Price Installs (in millions)  \n",
       "6962          1    0.0                1e-06MM  \n",
       "6239          1    0.0                1e-06MM  \n",
       "7526          5    0.0                5e-06MM  \n",
       "6437          5    0.0                5e-06MM  \n",
       "9074         10    0.0                1e-05MM  \n",
       "...         ...    ...                    ...  \n",
       "1286   50000000    0.0                 50.0MM  \n",
       "1362   50000000    0.0                 50.0MM  \n",
       "1386   50000000    0.0                 50.0MM  \n",
       "1360  100000000    0.0                100.0MM  \n",
       "5596  500000000    0.0                500.0MM  \n",
       "\n",
       "[341 rows x 5 columns]"
      ]
     },
     "execution_count": 68,
     "metadata": {},
     "output_type": "execute_result"
    }
   ],
   "source": [
    "data = data.sort_values(by='Installs', ascending=True)\n",
    "data"
   ]
  },
  {
   "cell_type": "code",
   "execution_count": 69,
   "metadata": {},
   "outputs": [
    {
     "data": {
      "text/html": [
       "<div>\n",
       "<style scoped>\n",
       "    .dataframe tbody tr th:only-of-type {\n",
       "        vertical-align: middle;\n",
       "    }\n",
       "\n",
       "    .dataframe tbody tr th {\n",
       "        vertical-align: top;\n",
       "    }\n",
       "\n",
       "    .dataframe thead th {\n",
       "        text-align: right;\n",
       "    }\n",
       "</style>\n",
       "<table border=\"1\" class=\"dataframe\">\n",
       "  <thead>\n",
       "    <tr style=\"text-align: right;\">\n",
       "      <th></th>\n",
       "      <th>App</th>\n",
       "      <th>Category</th>\n",
       "      <th>Installs</th>\n",
       "      <th>Price</th>\n",
       "      <th>Installs (in millions)</th>\n",
       "    </tr>\n",
       "  </thead>\n",
       "  <tbody>\n",
       "    <tr>\n",
       "      <th>9409</th>\n",
       "      <td>Vital Tones EI Pro</td>\n",
       "      <td>HEALTH_AND_FITNESS</td>\n",
       "      <td>50</td>\n",
       "      <td>9.99</td>\n",
       "      <td>5e-05MM</td>\n",
       "    </tr>\n",
       "    <tr>\n",
       "      <th>10760</th>\n",
       "      <td>Fast Tract Diet</td>\n",
       "      <td>HEALTH_AND_FITNESS</td>\n",
       "      <td>1000</td>\n",
       "      <td>7.99</td>\n",
       "      <td>0.001MM</td>\n",
       "    </tr>\n",
       "    <tr>\n",
       "      <th>9647</th>\n",
       "      <td>The EO Bar</td>\n",
       "      <td>HEALTH_AND_FITNESS</td>\n",
       "      <td>10000</td>\n",
       "      <td>6.99</td>\n",
       "      <td>0.01MM</td>\n",
       "    </tr>\n",
       "    <tr>\n",
       "      <th>6596</th>\n",
       "      <td>Monitor My BP</td>\n",
       "      <td>HEALTH_AND_FITNESS</td>\n",
       "      <td>50</td>\n",
       "      <td>5.99</td>\n",
       "      <td>5e-05MM</td>\n",
       "    </tr>\n",
       "    <tr>\n",
       "      <th>9657</th>\n",
       "      <td>EO Guide</td>\n",
       "      <td>HEALTH_AND_FITNESS</td>\n",
       "      <td>1000</td>\n",
       "      <td>4.99</td>\n",
       "      <td>0.001MM</td>\n",
       "    </tr>\n",
       "    <tr>\n",
       "      <th>...</th>\n",
       "      <td>...</td>\n",
       "      <td>...</td>\n",
       "      <td>...</td>\n",
       "      <td>...</td>\n",
       "      <td>...</td>\n",
       "    </tr>\n",
       "    <tr>\n",
       "      <th>5900</th>\n",
       "      <td>Cures A-Z</td>\n",
       "      <td>HEALTH_AND_FITNESS</td>\n",
       "      <td>100000</td>\n",
       "      <td>0.00</td>\n",
       "      <td>0.1MM</td>\n",
       "    </tr>\n",
       "    <tr>\n",
       "      <th>7379</th>\n",
       "      <td>Pharmacy CI - Pharmacies de garde Côte d'Ivoire</td>\n",
       "      <td>HEALTH_AND_FITNESS</td>\n",
       "      <td>100000</td>\n",
       "      <td>0.00</td>\n",
       "      <td>0.1MM</td>\n",
       "    </tr>\n",
       "    <tr>\n",
       "      <th>6249</th>\n",
       "      <td>Run on Earth</td>\n",
       "      <td>HEALTH_AND_FITNESS</td>\n",
       "      <td>50000</td>\n",
       "      <td>0.00</td>\n",
       "      <td>0.05MM</td>\n",
       "    </tr>\n",
       "    <tr>\n",
       "      <th>1276</th>\n",
       "      <td>Lose Belly Fat-Home Abs Fitness Workout</td>\n",
       "      <td>HEALTH_AND_FITNESS</td>\n",
       "      <td>50000</td>\n",
       "      <td>0.00</td>\n",
       "      <td>0.05MM</td>\n",
       "    </tr>\n",
       "    <tr>\n",
       "      <th>5596</th>\n",
       "      <td>Samsung Health</td>\n",
       "      <td>HEALTH_AND_FITNESS</td>\n",
       "      <td>500000000</td>\n",
       "      <td>0.00</td>\n",
       "      <td>500.0MM</td>\n",
       "    </tr>\n",
       "  </tbody>\n",
       "</table>\n",
       "<p>341 rows × 5 columns</p>\n",
       "</div>"
      ],
      "text/plain": [
       "                                                   App            Category  \\\n",
       "9409                                Vital Tones EI Pro  HEALTH_AND_FITNESS   \n",
       "10760                                  Fast Tract Diet  HEALTH_AND_FITNESS   \n",
       "9647                                        The EO Bar  HEALTH_AND_FITNESS   \n",
       "6596                                     Monitor My BP  HEALTH_AND_FITNESS   \n",
       "9657                                          EO Guide  HEALTH_AND_FITNESS   \n",
       "...                                                ...                 ...   \n",
       "5900                                         Cures A-Z  HEALTH_AND_FITNESS   \n",
       "7379   Pharmacy CI - Pharmacies de garde Côte d'Ivoire  HEALTH_AND_FITNESS   \n",
       "6249                                      Run on Earth  HEALTH_AND_FITNESS   \n",
       "1276           Lose Belly Fat-Home Abs Fitness Workout  HEALTH_AND_FITNESS   \n",
       "5596                                    Samsung Health  HEALTH_AND_FITNESS   \n",
       "\n",
       "        Installs  Price Installs (in millions)  \n",
       "9409          50   9.99                5e-05MM  \n",
       "10760       1000   7.99                0.001MM  \n",
       "9647       10000   6.99                 0.01MM  \n",
       "6596          50   5.99                5e-05MM  \n",
       "9657        1000   4.99                0.001MM  \n",
       "...          ...    ...                    ...  \n",
       "5900      100000   0.00                  0.1MM  \n",
       "7379      100000   0.00                  0.1MM  \n",
       "6249       50000   0.00                 0.05MM  \n",
       "1276       50000   0.00                 0.05MM  \n",
       "5596   500000000   0.00                500.0MM  \n",
       "\n",
       "[341 rows x 5 columns]"
      ]
     },
     "execution_count": 69,
     "metadata": {},
     "output_type": "execute_result"
    }
   ],
   "source": [
    "data.sort_values(by='Price', ascending=False)"
   ]
  },
  {
   "cell_type": "code",
   "execution_count": 77,
   "metadata": {},
   "outputs": [
    {
     "data": {
      "image/png": "[encoded data removed]",
      "text/plain": [
       "<Figure size 432x288 with 1 Axes>"
      ]
     },
     "metadata": {
      "needs_background": "light"
     },
     "output_type": "display_data"
    }
   ],
   "source": [
    "# create line plot\n",
    "\n",
    "g = sns.barplot(x='Price',y='Installs (in millions)',ci = None, estimator = max, data=data)\n",
    "#Addjusted the rotation of the labels below\n",
    "plt.xticks(rotation=60)\n",
    "plt.tight_layout()\n",
    "#I like this plot"
   ]
  },
  {
   "cell_type": "code",
   "execution_count": 72,
   "metadata": {},
   "outputs": [
    {
     "data": {
      "text/plain": [
       "<seaborn.axisgrid.FacetGrid at 0x7fdf0748ffd0>"
      ]
     },
     "execution_count": 72,
     "metadata": {},
     "output_type": "execute_result"
    },
    {
     "data": {
      "image/png": "[encoded data removed]",
      "text/plain": [
       "<Figure size 360x360 with 1 Axes>"
      ]
     },
     "metadata": {
      "needs_background": "light"
     },
     "output_type": "display_data"
    }
   ],
   "source": [
    "sns.relplot(x='Price', y='Installs (in millions)', kind=\"line\", data=data)"
   ]
  },
  {
   "cell_type": "code",
   "execution_count": 930,
   "metadata": {},
   "outputs": [
    {
     "data": {
      "text/html": [
       "<div>\n",
       "<style scoped>\n",
       "    .dataframe tbody tr th:only-of-type {\n",
       "        vertical-align: middle;\n",
       "    }\n",
       "\n",
       "    .dataframe tbody tr th {\n",
       "        vertical-align: top;\n",
       "    }\n",
       "\n",
       "    .dataframe thead th {\n",
       "        text-align: right;\n",
       "    }\n",
       "</style>\n",
       "<table border=\"1\" class=\"dataframe\">\n",
       "  <thead>\n",
       "    <tr style=\"text-align: right;\">\n",
       "      <th></th>\n",
       "      <th>App</th>\n",
       "      <th>Category</th>\n",
       "      <th>Installs</th>\n",
       "      <th>Price</th>\n",
       "      <th>Installs (in millions)</th>\n",
       "    </tr>\n",
       "  </thead>\n",
       "  <tbody>\n",
       "    <tr>\n",
       "      <th>6596</th>\n",
       "      <td>Monitor My BP</td>\n",
       "      <td>HEALTH_AND_FITNESS</td>\n",
       "      <td>50</td>\n",
       "      <td>5.99</td>\n",
       "      <td>5e-05MM</td>\n",
       "    </tr>\n",
       "    <tr>\n",
       "      <th>9409</th>\n",
       "      <td>Vital Tones EI Pro</td>\n",
       "      <td>HEALTH_AND_FITNESS</td>\n",
       "      <td>50</td>\n",
       "      <td>9.99</td>\n",
       "      <td>5e-05MM</td>\n",
       "    </tr>\n",
       "    <tr>\n",
       "      <th>8164</th>\n",
       "      <td>Tools &amp; Mi Band</td>\n",
       "      <td>HEALTH_AND_FITNESS</td>\n",
       "      <td>100000</td>\n",
       "      <td>3.49</td>\n",
       "      <td>0.1MM</td>\n",
       "    </tr>\n",
       "    <tr>\n",
       "      <th>1335</th>\n",
       "      <td>Meditation Studio</td>\n",
       "      <td>HEALTH_AND_FITNESS</td>\n",
       "      <td>10000</td>\n",
       "      <td>3.99</td>\n",
       "      <td>0.01MM</td>\n",
       "    </tr>\n",
       "    <tr>\n",
       "      <th>9647</th>\n",
       "      <td>The EO Bar</td>\n",
       "      <td>HEALTH_AND_FITNESS</td>\n",
       "      <td>10000</td>\n",
       "      <td>6.99</td>\n",
       "      <td>0.01MM</td>\n",
       "    </tr>\n",
       "    <tr>\n",
       "      <th>10760</th>\n",
       "      <td>Fast Tract Diet</td>\n",
       "      <td>HEALTH_AND_FITNESS</td>\n",
       "      <td>1000</td>\n",
       "      <td>7.99</td>\n",
       "      <td>0.001MM</td>\n",
       "    </tr>\n",
       "    <tr>\n",
       "      <th>8792</th>\n",
       "      <td>Dr. McDougall Mobile Cookbook</td>\n",
       "      <td>HEALTH_AND_FITNESS</td>\n",
       "      <td>1000</td>\n",
       "      <td>4.99</td>\n",
       "      <td>0.001MM</td>\n",
       "    </tr>\n",
       "    <tr>\n",
       "      <th>9657</th>\n",
       "      <td>EO Guide</td>\n",
       "      <td>HEALTH_AND_FITNESS</td>\n",
       "      <td>1000</td>\n",
       "      <td>4.99</td>\n",
       "      <td>0.001MM</td>\n",
       "    </tr>\n",
       "  </tbody>\n",
       "</table>\n",
       "</div>"
      ],
      "text/plain": [
       "                                 App            Category  Installs  Price  \\\n",
       "6596                   Monitor My BP  HEALTH_AND_FITNESS        50   5.99   \n",
       "9409              Vital Tones EI Pro  HEALTH_AND_FITNESS        50   9.99   \n",
       "8164                 Tools & Mi Band  HEALTH_AND_FITNESS    100000   3.49   \n",
       "1335               Meditation Studio  HEALTH_AND_FITNESS     10000   3.99   \n",
       "9647                      The EO Bar  HEALTH_AND_FITNESS     10000   6.99   \n",
       "10760                Fast Tract Diet  HEALTH_AND_FITNESS      1000   7.99   \n",
       "8792   Dr. McDougall Mobile Cookbook  HEALTH_AND_FITNESS      1000   4.99   \n",
       "9657                        EO Guide  HEALTH_AND_FITNESS      1000   4.99   \n",
       "\n",
       "      Installs (in millions)  \n",
       "6596                 5e-05MM  \n",
       "9409                 5e-05MM  \n",
       "8164                   0.1MM  \n",
       "1335                  0.01MM  \n",
       "9647                  0.01MM  \n",
       "10760                0.001MM  \n",
       "8792                 0.001MM  \n",
       "9657                 0.001MM  "
      ]
     },
     "execution_count": 930,
     "metadata": {},
     "output_type": "execute_result"
    }
   ],
   "source": [
    "data.loc[data['Price'] > 3]"
   ]
  },
  {
   "cell_type": "code",
   "execution_count": null,
   "metadata": {},
   "outputs": [],
   "source": [
    "# Total number of installs\n",
    "totalInstalls = data['Installs'].count()\n",
    "totalInstalls"
   ]
  },
  {
   "cell_type": "code",
   "execution_count": null,
   "metadata": {},
   "outputs": [],
   "source": [
    "Installs50 = data.loc[data['Installs'] < 1000].count()\n",
    "Installs50"
   ]
  },
  {
   "cell_type": "code",
   "execution_count": null,
   "metadata": {},
   "outputs": [],
   "source": [
    "priceUnder1 = data.loc[data['Price'] <= 1].count()\n",
    "priceUnder1"
   ]
  },
  {
   "cell_type": "code",
   "execution_count": null,
   "metadata": {},
   "outputs": [],
   "source": [
    "priceFree = data.loc[data['Price'] == 0].count()\n",
    "priceFree"
   ]
  },
  {
   "cell_type": "code",
   "execution_count": null,
   "metadata": {},
   "outputs": [],
   "source": [
    "percentageUnder1 = 325 / 341\n",
    "percentageUnder1"
   ]
  },
  {
   "cell_type": "code",
   "execution_count": null,
   "metadata": {},
   "outputs": [],
   "source": [
    "# How many free apps above 1000 installs\n",
    "data.loc[(data['Installs'] > 1000) & (data['Price'] == 0)].count()"
   ]
  },
  {
   "cell_type": "code",
   "execution_count": null,
   "metadata": {},
   "outputs": [],
   "source": [
    "# How many free apps above 10000 installs\n",
    "data.loc[(data['Installs'] > 10000) & (data['Price'] == 0)].count()"
   ]
  },
  {
   "cell_type": "code",
   "execution_count": null,
   "metadata": {},
   "outputs": [],
   "source": [
    "# How many free apps above 100000 installs\n",
    "data.loc[(data['Installs'] > 100000) & (data['Price'] == 0)].count()"
   ]
  },
  {
   "cell_type": "code",
   "execution_count": null,
   "metadata": {},
   "outputs": [],
   "source": [
    "# Any apps above 10,000 installs more than $1\n",
    "data.loc[(data['Installs'] >= 10000) & (data['Price'] > 1)].count()"
   ]
  },
  {
   "cell_type": "code",
   "execution_count": null,
   "metadata": {},
   "outputs": [],
   "source": [
    "# Any apps above 100,000 installs more than $1\n",
    "data.loc[(data['Installs'] >= 100000) & (data['Price'] > 1)].count()"
   ]
  },
  {
   "cell_type": "code",
   "execution_count": null,
   "metadata": {},
   "outputs": [],
   "source": [
    "# Any apps above 100,000 installs more than $1\n",
    "data.loc[(data['Installs'] > 100000) & (data['Price'] >= 1)].count()"
   ]
  },
  {
   "cell_type": "code",
   "execution_count": null,
   "metadata": {},
   "outputs": [],
   "source": [
    "data['Installs'].isnull().values.any()"
   ]
  },
  {
   "cell_type": "code",
   "execution_count": null,
   "metadata": {},
   "outputs": [],
   "source": [
    "data['Installs'].isnull().sum()"
   ]
  },
  {
   "cell_type": "code",
   "execution_count": null,
   "metadata": {},
   "outputs": [],
   "source": [
    "data['Price'].unique()"
   ]
  },
  {
   "cell_type": "code",
   "execution_count": null,
   "metadata": {},
   "outputs": [],
   "source": [
    "# Summary\n",
    "\n",
    "print('Summary:\\n'\n",
    "     'App installs mean = {}'.format(f_installsMean),\n",
    "     '\\nApp price mean: {}'.format(f_priceMean))\n"
   ]
  },
  {
   "cell_type": "code",
   "execution_count": 86,
   "metadata": {},
   "outputs": [
    {
     "data": {
      "image/png": "[encoded data removed]",
      "text/plain": [
       "<Figure size 432x288 with 1 Axes>"
      ]
     },
     "metadata": {
      "needs_background": "light"
     },
     "output_type": "display_data"
    }
   ],
   "source": [
    "#Added this in here to see both in the same histrogram\n",
    "plt.hist(data['Installs'],    \n",
    "         label='Installs', \n",
    "         color='red') # customized color parameter \n",
    "  \n",
    "plt.hist(data['Price'],   \n",
    "         label='Price', \n",
    "         color='green') \n",
    "\n",
    "plt.legend(loc='upper right') \n",
    "plt.show()"
   ]
  },
  {
   "cell_type": "code",
   "execution_count": 87,
   "metadata": {},
   "outputs": [
    {
     "data": {
      "text/plain": [
       "(array([339.,   1.,   0.,   0.,   0.,   0.,   0.,   0.,   0.,   1.]),\n",
       " array([1.00000000e+00, 5.00000009e+07, 1.00000001e+08, 1.50000001e+08,\n",
       "        2.00000001e+08, 2.50000000e+08, 3.00000000e+08, 3.50000000e+08,\n",
       "        4.00000000e+08, 4.50000000e+08, 5.00000000e+08]),\n",
       " <BarContainer object of 10 artists>)"
      ]
     },
     "execution_count": 87,
     "metadata": {},
     "output_type": "execute_result"
    },
    {
     "data": {
      "image/png": "[encoded data removed]",
      "text/plain": [
       "<Figure size 432x288 with 1 Axes>"
      ]
     },
     "metadata": {
      "needs_background": "light"
     },
     "output_type": "display_data"
    }
   ],
   "source": [
    "#Installs\n",
    "plt.hist(data['Installs'],    \n",
    "         label='Installs', \n",
    "         color='red')"
   ]
  },
  {
   "cell_type": "code",
   "execution_count": 88,
   "metadata": {},
   "outputs": [
    {
     "data": {
      "text/plain": [
       "(array([326.,   3.,   4.,   2.,   2.,   1.,   1.,   1.,   0.,   1.]),\n",
       " array([0.   , 0.999, 1.998, 2.997, 3.996, 4.995, 5.994, 6.993, 7.992,\n",
       "        8.991, 9.99 ]),\n",
       " <BarContainer object of 10 artists>)"
      ]
     },
     "execution_count": 88,
     "metadata": {},
     "output_type": "execute_result"
    },
    {
     "data": {
      "image/png": "[encoded data removed]",
      "text/plain": [
       "<Figure size 432x288 with 1 Axes>"
      ]
     },
     "metadata": {
      "needs_background": "light"
     },
     "output_type": "display_data"
    }
   ],
   "source": [
    "#Price\n",
    "plt.hist(data['Price'],   \n",
    "         label='Price', \n",
    "         color='green') "
   ]
  },
  {
   "cell_type": "code",
   "execution_count": null,
   "metadata": {},
   "outputs": [],
   "source": []
  }
 ],
 "metadata": {
  "kernelspec": {
   "display_name": "Python 3",
   "language": "python",
   "name": "python3"
  },
  "language_info": {
   "codemirror_mode": {
    "name": "ipython",
    "version": 3
   },
   "file_extension": ".py",
   "mimetype": "text/x-python",
   "name": "python",
   "nbconvert_exporter": "python",
   "pygments_lexer": "ipython3",
   "version": "3.8.5"
  }
 },
 "nbformat": 4,
 "nbformat_minor": 4
}
